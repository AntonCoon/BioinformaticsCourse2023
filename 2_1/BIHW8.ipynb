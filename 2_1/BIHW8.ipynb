{
  "nbformat": 4,
  "nbformat_minor": 0,
  "metadata": {
    "colab": {
      "provenance": []
    },
    "kernelspec": {
      "name": "python3",
      "display_name": "Python 3"
    },
    "language_info": {
      "name": "python"
    }
  },
  "cells": [
    {
      "cell_type": "markdown",
      "source": [
        "1. Симуляция секвенирования (3 балла)\n",
        "Первое задание заключается в том, чтобы написать симуляцию секвенирования ридов при помощи illumina. Для этого необходимо сгенерировать случайно строку длинной 50 000 символов, над алфавитом {A, T, G, C}. После этого случайно выбирать подстроки, длинна которых распределена нормально со средним 250 и среднеквадратическим отклонением 30, каждую такую подстроку \"секвенировать\".\n",
        "Под словом \"секвенировать\" в данном случае имеется ввиду симуляция того процесса, который мы обсуждали на лекции. Вы считываете очередной символ подстроки, например, 100 раз, но в N случаях из 100 ошибаетесь и считываете любой нуклеотид, кроме правильного с одинаковой вероятностью. N принадлежит равномерному распределению от 0 до 60. По получившемуся набору вычисляете наибоее вероятный нуклеотид (тот, которого больше всего) и его качество прочтения, чтобы записать его в формате FASTQ.\n",
        "При симуляции важно запоминать ID рида и для каждого ID позиции, в которых нуклеотид был считан неверно и какой должен быть на самом деле (для этого просто можно хранить 2 числа и помнить что у вас есть исходная строка, откуда берутся риды). Это понадобится для выполнения следующих заданий.\n",
        "Всего ридов пусть будет 50К."
      ],
      "metadata": {
        "id": "mduVYgwssmfQ"
      }
    },
    {
      "cell_type": "code",
      "source": [
        "import random\n",
        "import numpy as np\n",
        "import json"
      ],
      "metadata": {
        "id": "F6oygw4_CotK"
      },
      "execution_count": 1,
      "outputs": []
    },
    {
      "cell_type": "code",
      "source": [
        "class Illumina:\n",
        "    def __init__(self, seq_length, read_length_mean=250, read_length_std=30, error_rate_max=0.6):\n",
        "        self.seq_length = seq_length\n",
        "        self.read_length_mean = read_length_mean\n",
        "        self.read_length_std = read_length_std\n",
        "        self.error_rate_max = error_rate_max\n",
        "        self.sequence = ''.join(random.choices(['A', 'T', 'G', 'C'], k=self.seq_length))\n",
        "        self.reads = []\n",
        "        self.errors = {}\n",
        "\n",
        "    def simulate(self, n_reads):\n",
        "        for i in range(n_reads):\n",
        "            read_length = int(np.random.normal(loc=self.read_length_mean, scale=self.read_length_std))\n",
        "            if read_length < 1:\n",
        "                read_length = 1\n",
        "            start_pos = random.randint(0, self.seq_length - read_length)\n",
        "            read_seq = self.sequence[start_pos:start_pos + read_length]\n",
        "            read_quality = ''.join([chr(random.randint(33, 73)) for _ in range(read_length)])\n",
        "            errors = []\n",
        "            for j in range(read_length):\n",
        "                if random.random() < self.error_rate_max:\n",
        "                    true_base = read_seq[j]\n",
        "                    error_bases = [b for b in ['A', 'T', 'G', 'C'] if b != true_base]\n",
        "                    error_base = random.choice(error_bases)\n",
        "                    read_seq = read_seq[:j] + error_base + read_seq[j+1:]\n",
        "                    errors.append((j, error_base, true_base))\n",
        "            read_id = f\"read_{i}\"\n",
        "            self.reads.append((read_id, read_seq, read_quality))\n",
        "            if errors:\n",
        "                self.errors[read_id] = errors\n",
        "\n",
        "    def to_fastq(self, filename):\n",
        "        with open(filename, 'w') as f:\n",
        "            for read_id, read_seq, read_quality in self.reads:\n",
        "                f.write(f\"@{read_id}\\n{read_seq}\\n+\\n{read_quality}\\n\")\n",
        "\n",
        "    def to_json(self, filename):\n",
        "        with open(filename, 'w') as f:\n",
        "            json.dump(self.errors, f)\n",
        "\n",
        "\n"
      ],
      "metadata": {
        "id": "Wy9O4A6ICmLP"
      },
      "execution_count": null,
      "outputs": []
    },
    {
      "cell_type": "code",
      "source": [
        "\n",
        "illumina = Illumina(seq_length=50000)\n",
        "illumina.simulate(50000)\n",
        "illumina.to_fastq('reads.fastq')\n",
        "illumina.to_json('errors.json')"
      ],
      "metadata": {
        "id": "IV3DvUF1CtH-"
      },
      "execution_count": null,
      "outputs": []
    },
    {
      "cell_type": "markdown",
      "source": [
        "Получили два файла: reads.fastq и reads.json"
      ],
      "metadata": {
        "id": "p1yEzKvOs1VZ"
      }
    },
    {
      "cell_type": "markdown",
      "source": [
        "2. Удаление ошибок (Trimmomatic) (2 балла) Получившиеся риды обработайте Trimmomatic со стандартными параметрами с лекции. Пользуясь тем, что вы знаете, для каждого рида ground truth, посчитайте, в скольких случаях Trimmomatic удалил нуклеотиды, которые были считаны верно, а в скольких действительно удалил ошибочные."
      ],
      "metadata": {
        "id": "_5-iEDsxs88d"
      }
    },
    {
      "cell_type": "code",
      "source": [
        "def read_fastq(filename: str):\n",
        "    sequences = []\n",
        "    qualities = []\n",
        "    with open(filename) as f:\n",
        "        while True:\n",
        "            f.readline()  # пропуск первой строки, содержащей информацию о риде\n",
        "            seq = f.readline().rstrip()  # чтение последовательности рида\n",
        "            f.readline()  # пропуск третьей строки, содержащей информацию о риде\n",
        "            qual = f.readline().rstrip()  # чтение качества рида\n",
        "            if len(seq) == 0:\n",
        "                break\n",
        "            sequences.append(seq)\n",
        "            qualities.append(qual)\n",
        "    return sequences, qualities"
      ],
      "metadata": {
        "id": "XOmO1y4LtANN"
      },
      "execution_count": null,
      "outputs": []
    },
    {
      "cell_type": "code",
      "source": [
        "def read_json(filename: str):\n",
        "    with open(filename, 'r') as f:\n",
        "        data = json.load(f)\n",
        "    return data"
      ],
      "metadata": {
        "id": "J1LKs5GWtE4e"
      },
      "execution_count": null,
      "outputs": []
    },
    {
      "cell_type": "code",
      "source": [
        "# Чтение файлов\n",
        "sequences, qualities = read_fastq('reads.fastq')\n",
        "errors = read_json('errors.json')"
      ],
      "metadata": {
        "id": "uT6PEmrDtIYw"
      },
      "execution_count": null,
      "outputs": []
    },
    {
      "cell_type": "code",
      "source": [
        "import subprocess\n",
        "\n",
        "trim_command = ['java', '-jar', 'trimmomatic-0.39.jar', 'SE', '-phred33', '-', '-', 'LEADING:3', 'TRAILING:3',\n",
        "                'SLIDINGWINDOW:4:15', 'MINLEN:36']"
      ],
      "metadata": {
        "id": "H87nI6TktKSa"
      },
      "execution_count": null,
      "outputs": []
    },
    {
      "cell_type": "code",
      "source": [
        "correct_deleted = 0  # количество нуклеотидов, считанных верно и удаленных Trimmomatic\n",
        "incorrect_deleted = 0  # количество нуклеотидов, считанных неверно и удаленных Trimmomatic\n",
        "\n",
        "for i, seq in enumerate(sequences):\n",
        "    # запуск Trimmomatic на каждом риде\n",
        "    p = subprocess.Popen(trim_command, stdout=subprocess.PIPE, stdin=subprocess.PIPE, stderr=subprocess.PIPE)\n",
        "    stdout, stderr = p.communicate(input=seq.encode())\n",
        "    trimmed_seq = stdout.decode().strip()\n",
        "\n",
        "    # определение количества удаленных нуклеотидов\n",
        "    if trimmed_seq in seq:\n",
        "        correct_deleted += len(seq) - len(trimmed_seq)\n",
        "    else:\n",
        "        for error_pos in errors[str(i)]:\n",
        "            if error_pos < len(trimmed_seq) and seq[error_pos] != trimmed_seq[error_pos]:\n",
        "                incorrect_deleted += 1\n",
        "                break\n",
        "        else:\n",
        "            correct_deleted += len(seq) - len(trimmed_seq)"
      ],
      "metadata": {
        "id": "EDV3eTomtMe8"
      },
      "execution_count": null,
      "outputs": []
    },
    {
      "cell_type": "markdown",
      "source": [
        "Получили, что с параметрами предложенными на лекции Trimmomatic просто все удаляет, чего, вообще говоря быть не должно"
      ],
      "metadata": {
        "id": "e1OTVuUDtQgQ"
      }
    },
    {
      "cell_type": "markdown",
      "source": [
        "3. Коррекция ошибок (4 балла) Получившиеся риды обработайте одним(любым) из инструментов, которые использованы и проанализированны в этой статье. Посчитайте TP, FP, TN, FN."
      ],
      "metadata": {
        "id": "GR5tR84JEeno"
      }
    },
    {
      "cell_type": "markdown",
      "source": [
        "Для подсчета TP, FP, TN, FN, необходимо иметь информацию о правильной классификации каждого рида (истинные метки) и о том, какие риды были отфильтрованы Trimmomatic (предсказанные метки). Для этого можно использовать информацию, сохраненную в JSON файле. Но так как Trimmomatic отработал вообще никак, то и посчитать данные характеристики не удалось.\n",
        "\n",
        "Далее идет концепция кода, которая должна считать необходимые данные.\n",
        "\n",
        "Для обработки хотелось использовать mpu"
      ],
      "metadata": {
        "id": "K7wLZUVmEkqi"
      }
    },
    {
      "cell_type": "code",
      "source": [
        "import mpu\n",
        "\n",
        "# Загрузка информации о неверно считанных нуклеотидах\n",
        "with open('reads_errors.json', 'r') as f:\n",
        "    reads_errors = json.load(f)\n",
        "\n",
        "# Загрузка истинных меток ридов\n",
        "# Для этого можно использовать информацию о том, какие подстроки были секвенированы\n",
        "# и сравнить с исходной строкой\n",
        "with open('ground_truth.txt', 'r') as f:\n",
        "    ground_truth = f.read()\n",
        "\n",
        "# Загрузка предсказанных меток из файла trimmed_reads.fastq\n",
        "with open('trimmed_reads.fastq', 'r') as f:\n",
        "    lines = f.readlines()\n",
        "    # Отбрасываем строки, содержащие качество чтения\n",
        "    reads = [lines[i] for i in range(len(lines)) if i % 4 == 1]\n",
        "\n",
        "# Функция для преобразования ридов в список меток\n",
        "def convert_reads_to_labels(reads):\n",
        "    labels = []\n",
        "    for read in reads:\n",
        "        label = 1 if read in reads_errors else 0\n",
        "        labels.append(label)\n",
        "    return labels\n",
        "\n",
        "# Преобразование истинных меток и предсказанных меток в списки\n",
        "ground_truth_labels = convert_reads_to_labels([ground_truth[i:i+250] for i in range(0, len(ground_truth), 250)])\n",
        "predicted_labels = convert_reads_to_labels(reads)\n",
        "\n",
        "# Вычисление TP, FP, TN, FN\n",
        "tp, fp, tn, fn = mpu.ml.confusion_matrix(ground_truth_labels, predicted_labels)\n",
        "\n",
        "print('TP:', tp)\n",
        "print('FP:', fp)\n",
        "print('TN:', tn)\n",
        "print('FN:', fn)\n"
      ],
      "metadata": {
        "id": "krt92id8Ee8W"
      },
      "execution_count": null,
      "outputs": []
    },
    {
      "cell_type": "markdown",
      "source": [
        "4. Сделайте какой-то вывод (1 балл)"
      ],
      "metadata": {
        "id": "mhRwfuMwE6Dr"
      }
    },
    {
      "cell_type": "markdown",
      "source": [
        "То ли я что-то не так делаю, то ли Trimmomatic не умеет в исправление ошибок. Риды получили, а вот обработать их толком не получилось =("
      ],
      "metadata": {
        "id": "S9SCxO1EE-G7"
      }
    }
  ]
}