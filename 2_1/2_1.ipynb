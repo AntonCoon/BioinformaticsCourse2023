{
  "cells": [
    {
      "cell_type": "markdown",
      "source": [
        "# 1 задание"
      ],
      "metadata": {
        "collapsed": false,
        "id": "nWXAbIHu0pJE"
      }
    },
    {
      "cell_type": "code",
      "execution_count": null,
      "outputs": [],
      "source": [
        "import random\n",
        "import numpy as np\n",
        "num = 50000\n",
        "def simulate_reed_sequencing():\n",
        "    alphabet = ['A', 'T', 'G', 'C']\n",
        "    dna = ''.join(random.choices(alphabet, k=num))\n",
        "    reads = []\n",
        "    ground_truths = []\n",
        "    for i in range(num):\n",
        "        read_length = int(np.random.normal(250, 30))\n",
        "        start = random.randint(0, len(dna) - read_length)\n",
        "        read = dna[start:start+read_length]\n",
        "        ground_truths.append(read)\n",
        "\n",
        "        errors = []\n",
        "        p_values = []\n",
        "        for j in range(read_length):\n",
        "            N = random.randint(0, 60)\n",
        "            if N > 0:\n",
        "                true_nucleotide = read[j]\n",
        "                other_nucleotides = [n for n in ['A', 'T', 'G', 'C'] if n != true_nucleotide]\n",
        "                read = read[:j] + random.choice(other_nucleotides) + read[j+1:]\n",
        "                errors.append((j, true_nucleotide))\n",
        "                p_values.append(0.1)\n",
        "            else:\n",
        "                p_values.append(0.01)\n",
        "\n",
        "        p = len(errors) / read_length\n",
        "        reads.append((read, errors, p_values))\n",
        "\n",
        "    with open('reads.fastq', 'w') as f:\n",
        "        for i, (read, errors, p_values) in enumerate(reads):\n",
        "            f.write(f'@READ_{i}\\n')\n",
        "            f.write(f'{read}\\n')\n",
        "            f.write('+\\n')\n",
        "            qualities = []\n",
        "            for j in range(len(read)):\n",
        "                p = p_values[j]\n",
        "                quality = -10 * np.log10(p)\n",
        "                qualities.append(chr(int(quality) + 33))\n",
        "            f.write(''.join(qualities) + '\\n')\n",
        "\n",
        "    return ground_truths"
      ],
      "metadata": {
        "id": "rEPqFKsS0pJH"
      }
    },
    {
      "cell_type": "markdown",
      "source": [
        "# 2 задание"
      ],
      "metadata": {
        "collapsed": false,
        "id": "95xaZ7rt0pJK"
      }
    },
    {
      "cell_type": "code",
      "execution_count": 1,
      "outputs": [
        {
          "output_type": "error",
          "ename": "ModuleNotFoundError",
          "evalue": "ignored",
          "traceback": [
            "\u001b[0;31m---------------------------------------------------------------------------\u001b[0m",
            "\u001b[0;31mModuleNotFoundError\u001b[0m                       Traceback (most recent call last)",
            "\u001b[0;32m<ipython-input-1-ab140444f664>\u001b[0m in \u001b[0;36m<cell line: 2>\u001b[0;34m()\u001b[0m\n\u001b[1;32m      1\u001b[0m \u001b[0;32mimport\u001b[0m \u001b[0msubprocess\u001b[0m\u001b[0;34m\u001b[0m\u001b[0;34m\u001b[0m\u001b[0m\n\u001b[0;32m----> 2\u001b[0;31m \u001b[0;32mfrom\u001b[0m \u001b[0mBio\u001b[0m \u001b[0;32mimport\u001b[0m \u001b[0mSeqIO\u001b[0m\u001b[0;34m\u001b[0m\u001b[0;34m\u001b[0m\u001b[0m\n\u001b[0m\u001b[1;32m      3\u001b[0m \u001b[0;34m\u001b[0m\u001b[0m\n\u001b[1;32m      4\u001b[0m \u001b[0;34m\u001b[0m\u001b[0m\n\u001b[1;32m      5\u001b[0m \u001b[0;32mdef\u001b[0m \u001b[0mevaluate_trimmomatic_performance\u001b[0m\u001b[0;34m(\u001b[0m\u001b[0mground_truths\u001b[0m\u001b[0;34m)\u001b[0m\u001b[0;34m:\u001b[0m\u001b[0;34m\u001b[0m\u001b[0;34m\u001b[0m\u001b[0m\n",
            "\u001b[0;31mModuleNotFoundError\u001b[0m: No module named 'Bio'",
            "",
            "\u001b[0;31m---------------------------------------------------------------------------\u001b[0;32m\nNOTE: If your import is failing due to a missing package, you can\nmanually install dependencies using either !pip or !apt.\n\nTo view examples of installing some common dependencies, click the\n\"Open Examples\" button below.\n\u001b[0;31m---------------------------------------------------------------------------\u001b[0m\n"
          ],
          "errorDetails": {
            "actions": [
              {
                "action": "open_url",
                "actionText": "Open Examples",
                "url": "/notebooks/snippets/importing_libraries.ipynb"
              }
            ]
          }
        }
      ],
      "source": [
        "import subprocess\n",
        "from Bio import SeqIO\n",
        "\n",
        "\n",
        "def get_data(file_input, file_output='output.fastq'):\n",
        "    trimmomatic_command = [\n",
        "        'java', '-jar', 'trimmomatic-0.39.jar', 'SE', '-phred33',\n",
        "        file_input, file_output, 'LEADING:1', 'TRAILING:1',\n",
        "        'SLIDINGWINDOW:5:2', 'MINLEN:250'\n",
        "    ]\n",
        "    subprocess.run(trimmomatic_command)\n",
        "\n",
        "    file_output = file_output if file_output.endswith('.fastq') else file_output + '.fastq'\n",
        "    data = list(SeqIO.parse(file_output, 'fastq'))\n",
        "    return [str(record.seq) for record in data]\n",
        "\n",
        "\n",
        "def evaluate_trimmomatic_performance(ground_truths):\n",
        "    result = get_data('D:\\\\Study\\\\BioinformaticsCourse2023\\\\2_1\\\\reads.fastq')\n",
        "    trimmed_reads = list(SeqIO.parse('output.fastq', 'fastq'))\n",
        "    correct_removals = 0\n",
        "    incorrect_removals = 0\n",
        "    for i in range(len(trimmed_reads)):\n",
        "        trimmed_read = str(trimmed_reads[i].seq)\n",
        "        ground_truth_read = ground_truths[i]\n",
        "        if len(trimmed_read) < len(ground_truth_read):\n",
        "            for j in range(len(trimmed_read)):\n",
        "                if trimmed_read[j] != ground_truth_read[j]:\n",
        "                    incorrect_removals += 1\n",
        "            correct_removals += len(ground_truth_read) - len(trimmed_read)\n",
        "        else:\n",
        "            for j in range(len(ground_truth_read)):\n",
        "                if trimmed_read[j] != ground_truth_read[j]:\n",
        "                    incorrect_removals += 1\n",
        "\n",
        "    print(f'Correct removals: {correct_removals}')\n",
        "    print(f'Incorrect removals: {incorrect_removals}')\n",
        "\n",
        "ground_truths = simulate_reed_sequencing()\n",
        "evaluate_trimmomatic_performance(ground_truths)"
      ],
      "metadata": {
        "colab": {
          "base_uri": "https://localhost:8080/",
          "height": 383
        },
        "id": "NseS0iVG0pJL",
        "outputId": "0b5c74d0-a6cb-4274-afef-f7f5333cea09"
      }
    },
    {
      "cell_type": "markdown",
      "source": [
        "# 3 задание"
      ],
      "metadata": {
        "collapsed": false,
        "id": "yFq-b0w50pJN"
      }
    },
    {
      "cell_type": "markdown",
      "source": [
        "Слишком много некорректно убранных нуклеотидов. Попробуем Pollux"
      ],
      "metadata": {
        "collapsed": false,
        "id": "hRheYUBl0pJP"
      }
    },
    {
      "cell_type": "code",
      "execution_count": 3,
      "outputs": [
        {
          "output_type": "error",
          "ename": "FileNotFoundError",
          "evalue": "ignored",
          "traceback": [
            "\u001b[0;31m---------------------------------------------------------------------------\u001b[0m",
            "\u001b[0;31mFileNotFoundError\u001b[0m                         Traceback (most recent call last)",
            "\u001b[0;32m<ipython-input-3-90b433b841fc>\u001b[0m in \u001b[0;36m<cell line: 25>\u001b[0;34m()\u001b[0m\n\u001b[1;32m     23\u001b[0m     \u001b[0;32mreturn\u001b[0m \u001b[0mTP\u001b[0m\u001b[0;34m,\u001b[0m \u001b[0mTN\u001b[0m\u001b[0;34m,\u001b[0m \u001b[0mFP\u001b[0m\u001b[0;34m,\u001b[0m \u001b[0mFN\u001b[0m\u001b[0;34m\u001b[0m\u001b[0;34m\u001b[0m\u001b[0m\n\u001b[1;32m     24\u001b[0m \u001b[0;34m\u001b[0m\u001b[0m\n\u001b[0;32m---> 25\u001b[0;31m \u001b[0mtp\u001b[0m\u001b[0;34m,\u001b[0m \u001b[0mtn\u001b[0m\u001b[0;34m,\u001b[0m \u001b[0mfp\u001b[0m\u001b[0;34m,\u001b[0m \u001b[0mfn\u001b[0m \u001b[0;34m=\u001b[0m \u001b[0mcompare_reads\u001b[0m\u001b[0;34m(\u001b[0m\u001b[0;34m'reads.fastq'\u001b[0m\u001b[0;34m,\u001b[0m \u001b[0;34m'pollux-master/output/output.fastq.low'\u001b[0m\u001b[0;34m)\u001b[0m\u001b[0;34m\u001b[0m\u001b[0;34m\u001b[0m\u001b[0m\n\u001b[0m\u001b[1;32m     26\u001b[0m \u001b[0mprint\u001b[0m\u001b[0;34m(\u001b[0m\u001b[0;34mf\"TP: {tp}, TN: {tn}, FP: {fp}, FN: {fn}\"\u001b[0m\u001b[0;34m)\u001b[0m\u001b[0;34m\u001b[0m\u001b[0;34m\u001b[0m\u001b[0m\n",
            "\u001b[0;32m<ipython-input-3-90b433b841fc>\u001b[0m in \u001b[0;36mcompare_reads\u001b[0;34m(reads_file, output_file)\u001b[0m\n\u001b[1;32m      5\u001b[0m     \u001b[0mFN\u001b[0m \u001b[0;34m=\u001b[0m \u001b[0;36m0\u001b[0m\u001b[0;34m\u001b[0m\u001b[0;34m\u001b[0m\u001b[0m\n\u001b[1;32m      6\u001b[0m \u001b[0;34m\u001b[0m\u001b[0m\n\u001b[0;32m----> 7\u001b[0;31m     \u001b[0;32mwith\u001b[0m \u001b[0mopen\u001b[0m\u001b[0;34m(\u001b[0m\u001b[0mreads_file\u001b[0m\u001b[0;34m,\u001b[0m \u001b[0;34m'r'\u001b[0m\u001b[0;34m)\u001b[0m \u001b[0;32mas\u001b[0m \u001b[0mreads\u001b[0m\u001b[0;34m,\u001b[0m \u001b[0mopen\u001b[0m\u001b[0;34m(\u001b[0m\u001b[0moutput_file\u001b[0m\u001b[0;34m,\u001b[0m \u001b[0;34m'r'\u001b[0m\u001b[0;34m)\u001b[0m \u001b[0;32mas\u001b[0m \u001b[0moutput\u001b[0m\u001b[0;34m:\u001b[0m\u001b[0;34m\u001b[0m\u001b[0;34m\u001b[0m\u001b[0m\n\u001b[0m\u001b[1;32m      8\u001b[0m         \u001b[0;32mfor\u001b[0m \u001b[0mread_line\u001b[0m\u001b[0;34m,\u001b[0m \u001b[0moutput_line\u001b[0m \u001b[0;32min\u001b[0m \u001b[0mzip\u001b[0m\u001b[0;34m(\u001b[0m\u001b[0mreads\u001b[0m\u001b[0;34m,\u001b[0m \u001b[0moutput\u001b[0m\u001b[0;34m)\u001b[0m\u001b[0;34m:\u001b[0m\u001b[0;34m\u001b[0m\u001b[0;34m\u001b[0m\u001b[0m\n\u001b[1;32m      9\u001b[0m             \u001b[0;32mif\u001b[0m \u001b[0mread_line\u001b[0m\u001b[0;34m.\u001b[0m\u001b[0mstartswith\u001b[0m\u001b[0;34m(\u001b[0m\u001b[0;34m'@'\u001b[0m\u001b[0;34m)\u001b[0m\u001b[0;34m:\u001b[0m\u001b[0;34m\u001b[0m\u001b[0;34m\u001b[0m\u001b[0m\n",
            "\u001b[0;31mFileNotFoundError\u001b[0m: [Errno 2] No such file or directory: 'reads.fastq'"
          ]
        }
      ],
      "source": [
        "def compare_reads(reads_file, output_file):\n",
        "    TP = 0\n",
        "    TN = 0\n",
        "    FP = 0\n",
        "    FN = 0\n",
        "\n",
        "    with open(reads_file, 'r') as reads, open(output_file, 'r') as output:\n",
        "        for read_line, output_line in zip(reads, output):\n",
        "            if read_line.startswith('@'):\n",
        "                continue\n",
        "            for read_base, output_base in zip(read_line.strip(), output_line.strip()):\n",
        "                if read_base == output_base:\n",
        "                    if read_base == 'N':\n",
        "                        FN += 1\n",
        "                    else:\n",
        "                        TN += 1\n",
        "                else:\n",
        "                    if read_base == 'N':\n",
        "                        FP += 1\n",
        "                    else:\n",
        "                        TP += 1\n",
        "\n",
        "    return TP, TN, FP, FN\n",
        "\n",
        "tp, tn, fp, fn = compare_reads('reads.fastq', 'pollux-master/output/output.fastq.low')\n",
        "print(f\"TP: {tp}, TN: {tn}, FP: {fp}, FN: {fn}\")"
      ],
      "metadata": {
        "colab": {
          "base_uri": "https://localhost:8080/",
          "height": 348
        },
        "id": "benfAztR0pJQ",
        "outputId": "e2209d6a-2fdf-49ad-fd10-2c629c62a2af"
      }
    },
    {
      "cell_type": "markdown",
      "source": [
        "Вообще он должен был исправить ошибки, но почему-то нет. Возможно изначально стоит поменять настройки trimmomatic, чтобы он не так часто ошибался, тогда наверное результат должен быть лучше. У нас изначально очень низка ошибка при \"секвинировании\", возможно и это влияет."
      ],
      "metadata": {
        "collapsed": false,
        "id": "5-81IV0u0pJR"
      }
    }
  ],
  "metadata": {
    "kernelspec": {
      "display_name": "Python 3",
      "language": "python",
      "name": "python3"
    },
    "language_info": {
      "codemirror_mode": {
        "name": "ipython",
        "version": 2
      },
      "file_extension": ".py",
      "mimetype": "text/x-python",
      "name": "python",
      "nbconvert_exporter": "python",
      "pygments_lexer": "ipython2",
      "version": "2.7.6"
    },
    "colab": {
      "provenance": []
    }
  },
  "nbformat": 4,
  "nbformat_minor": 0
}