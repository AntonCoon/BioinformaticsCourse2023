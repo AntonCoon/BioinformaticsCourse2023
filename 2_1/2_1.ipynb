{
 "cells": [
  {
   "cell_type": "markdown",
   "source": [
    "# 1 задание"
   ],
   "metadata": {
    "collapsed": false
   }
  },
  {
   "cell_type": "code",
   "execution_count": 1,
   "outputs": [],
   "source": [
    "import random\n",
    "import numpy as np\n",
    "num = 50000\n",
    "def simulate_reed_sequencing():\n",
    "    alphabet = ['A', 'T', 'G', 'C']\n",
    "    dna = ''.join(random.choices(alphabet, k=num))\n",
    "    reads = []\n",
    "    ground_truths = []\n",
    "    for i in range(num):\n",
    "        read_length = int(np.random.normal(250, 30))\n",
    "        start = random.randint(0, len(dna) - read_length)\n",
    "        read = dna[start:start+read_length]\n",
    "        ground_truths.append(read)\n",
    "\n",
    "        errors = []\n",
    "        p_values = []\n",
    "        for j in range(read_length):\n",
    "            N = random.randint(0, 60)\n",
    "            if N > 0:\n",
    "                true_nucleotide = read[j]\n",
    "                other_nucleotides = [n for n in ['A', 'T', 'G', 'C'] if n != true_nucleotide]\n",
    "                read = read[:j] + random.choice(other_nucleotides) + read[j+1:]\n",
    "                errors.append((j, true_nucleotide))\n",
    "                p_values.append(0.1)\n",
    "            else:\n",
    "                p_values.append(0.01)\n",
    "\n",
    "        p = len(errors) / read_length\n",
    "        reads.append((read, errors, p_values))\n",
    "\n",
    "    with open('reads.fastq', 'w') as f:\n",
    "        for i, (read, errors, p_values) in enumerate(reads):\n",
    "            f.write(f'@READ_{i}\\n')\n",
    "            f.write(f'{read}\\n')\n",
    "            f.write('+\\n')\n",
    "            qualities = []\n",
    "            for j in range(len(read)):\n",
    "                p = p_values[j]\n",
    "                quality = -10 * np.log10(p)\n",
    "                qualities.append(chr(int(quality) + 33))\n",
    "            f.write(''.join(qualities) + '\\n')\n",
    "\n",
    "    return ground_truths"
   ],
   "metadata": {
    "collapsed": false
   }
  },
  {
   "cell_type": "markdown",
   "source": [
    "# 2 задание"
   ],
   "metadata": {
    "collapsed": false
   }
  },
  {
   "cell_type": "code",
   "execution_count": 2,
   "outputs": [
    {
     "name": "stdout",
     "output_type": "stream",
     "text": [
      "Correct removals: 0\n",
      "Incorrect removals: 12270120\n"
     ]
    }
   ],
   "source": [
    "import subprocess\n",
    "from Bio import SeqIO\n",
    "\n",
    "\n",
    "def evaluate_trimmomatic_performance(ground_truths):\n",
    "    path = 'D:\\\\Study\\\\BioinformaticsCourse2023\\\\2_1\\\\Trimmomatic-0.39\\\\trimmomatic-0.39.jar'\n",
    "    trim_command = f'java -jar {path} SE -phred33 reads.fastq output.fastq ILLUMINACLIP:TruSeq3-SE:2:30:10 LEADING:1 TRAILING:1 SLIDINGWINDOW:5:2 MINLEN:36'\n",
    "\n",
    "    result = subprocess.run(trim_command, shell=True, stdout=subprocess.PIPE, stderr=subprocess.PIPE)\n",
    "\n",
    "\n",
    "    trimmed_reads = list(SeqIO.parse('output.fastq', 'fastq'))\n",
    "\n",
    "    correct_removals = 0\n",
    "    incorrect_removals = 0\n",
    "    for i in range(len(trimmed_reads)):\n",
    "        trimmed_read = str(trimmed_reads[i].seq)\n",
    "        ground_truth_read = ground_truths[i]\n",
    "        if len(trimmed_read) < len(ground_truth_read):\n",
    "            for j in range(len(trimmed_read)):\n",
    "                if trimmed_read[j] != ground_truth_read[j]:\n",
    "                    incorrect_removals += 1\n",
    "            correct_removals += len(ground_truth_read) - len(trimmed_read)\n",
    "        else:\n",
    "            for j in range(len(ground_truth_read)):\n",
    "                if trimmed_read[j] != ground_truth_read[j]:\n",
    "                    incorrect_removals += 1\n",
    "\n",
    "    print(f'Correct removals: {correct_removals}')\n",
    "    print(f'Incorrect removals: {incorrect_removals}')\n",
    "\n",
    "ground_truths = simulate_reed_sequencing()\n",
    "evaluate_trimmomatic_performance(ground_truths)"
   ],
   "metadata": {
    "collapsed": false
   }
  },
  {
   "cell_type": "markdown",
   "source": [
    "# 3 задание"
   ],
   "metadata": {
    "collapsed": false
   }
  },
  {
   "cell_type": "markdown",
   "source": [
    "Слишком много некорректно убранных нуклеотидов. Попробуем Pollux"
   ],
   "metadata": {
    "collapsed": false
   }
  },
  {
   "cell_type": "code",
   "execution_count": 3,
   "outputs": [
    {
     "name": "stdout",
     "output_type": "stream",
     "text": [
      "TP: 0, TN: 24999662, FP: 0, FN: 0\n"
     ]
    }
   ],
   "source": [
    "def compare_reads(reads_file, output_file):\n",
    "    TP = 0\n",
    "    TN = 0\n",
    "    FP = 0\n",
    "    FN = 0\n",
    "\n",
    "    with open(reads_file, 'r') as reads, open(output_file, 'r') as output:\n",
    "        for read_line, output_line in zip(reads, output):\n",
    "            if read_line.startswith('@'):\n",
    "                continue\n",
    "            for read_base, output_base in zip(read_line.strip(), output_line.strip()):\n",
    "                if read_base == output_base:\n",
    "                    if read_base == 'N':\n",
    "                        FN += 1\n",
    "                    else:\n",
    "                        TN += 1\n",
    "                else:\n",
    "                    if read_base == 'N':\n",
    "                        FP += 1\n",
    "                    else:\n",
    "                        TP += 1\n",
    "\n",
    "    return TP, TN, FP, FN\n",
    "\n",
    "tp, tn, fp, fn = compare_reads('reads.fastq', 'pollux-master/output/output.fastq.low')\n",
    "print(f\"TP: {tp}, TN: {tn}, FP: {fp}, FN: {fn}\")"
   ],
   "metadata": {
    "collapsed": false
   }
  },
  {
   "cell_type": "markdown",
   "source": [
    "Вообще он должен был исправить ошибки, но почему-то нет. Возможно изначально стоит поменять настройки trimmomatic, чтобы он не так часто ошибался, тогда наверное результат должен быть лучше. У нас изначально очень низка ошибка при \"секвинировании\", возможно и это влияет."
   ],
   "metadata": {
    "collapsed": false
   }
  }
 ],
 "metadata": {
  "kernelspec": {
   "display_name": "Python 3",
   "language": "python",
   "name": "python3"
  },
  "language_info": {
   "codemirror_mode": {
    "name": "ipython",
    "version": 2
   },
   "file_extension": ".py",
   "mimetype": "text/x-python",
   "name": "python",
   "nbconvert_exporter": "python",
   "pygments_lexer": "ipython2",
   "version": "2.7.6"
  }
 },
 "nbformat": 4,
 "nbformat_minor": 0
}
