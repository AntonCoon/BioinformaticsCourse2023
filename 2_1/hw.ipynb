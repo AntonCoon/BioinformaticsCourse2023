{
 "cells": [
  {
   "cell_type": "code",
   "execution_count": 153,
   "metadata": {},
   "outputs": [],
   "source": [
    "import numpy as np\n",
    "from tqdm import tqdm\n",
    "#!pip install fastq, minifasta\n",
    "import fastq as fq\n",
    "from time import time\n",
    "#!pip install mpu\n",
    "import mpu"
   ]
  },
  {
   "cell_type": "code",
   "execution_count": 177,
   "metadata": {},
   "outputs": [],
   "source": [
    "class Illumina:\n",
    "    def __init__(self, seq_length=50000, sub_seq_mean=250, sub_seq_std=30, read_times=100, max_N=0.6) -> None:\n",
    "        self.alp = ['A', 'C', 'G', 'T']\n",
    "        self.seq_length = seq_length\n",
    "        self.sub_seq_mean = sub_seq_mean\n",
    "        self.sub_seq_std = sub_seq_std\n",
    "        self.max_N = max_N\n",
    "        self.read_times = read_times\n",
    "        self.seq = np.random.choice(self.alp, size=seq_length)\n",
    "\n",
    "    def get_reads(self, total_reads=50000):\n",
    "        return [self.get_one_read() for _ in tqdm(range(total_reads))]\n",
    "        \n",
    "    def get_one_read(self):\n",
    "        sub_seq = self.gen_subseq()\n",
    "        seq = []\n",
    "        quality = []\n",
    "        for s in sub_seq:\n",
    "            nuc, qual = self.read_nucleotide(s)\n",
    "            seq.append(nuc)\n",
    "            quality.append(qual)\n",
    "        seq_id = hex(abs(hash(''.join(sub_seq) + str(time()))))[2:]\n",
    "        read = {\n",
    "            'head': 'SEQ_ID:' + seq_id,\n",
    "            'body': ''.join(seq),\n",
    "            'qstr': ''.join(map(lambda x: chr(round(x) + 33), quality))}\n",
    "        ground_truth = {\n",
    "            'head': 'SEQ_ID:' + seq_id,\n",
    "            'body': ''.join(sub_seq)}\n",
    "        return ground_truth, read\n",
    "    \n",
    "    def gen_subseq(self):\n",
    "        size = int(np.random.normal(loc=self.sub_seq_mean, scale=self.sub_seq_std))\n",
    "        start = np.random.randint(self.seq_length)\n",
    "        if start + size > self.seq_length:\n",
    "            return self.seq[start:]\n",
    "        else:\n",
    "            return self.seq[start:start+size]\n",
    "        \n",
    "    def read_nucleotide(self, s):\n",
    "        N = np.random.rand()*self.max_N\n",
    "        prob = np.full(4, N/3)\n",
    "        prob[self.alp.index(s)] = 1.0 - N\n",
    "        nucs = np.random.choice(self.alp, p=prob, size=self.read_times)\n",
    "        un, counts = np.unique(nucs, return_counts=True)\n",
    "        p = (self.read_times - counts.max())/self.read_times\n",
    "        nuc = un[counts.argmax()]\n",
    "        qual = - 10 * np.log10(max(p, 1e-4))\n",
    "        return nuc, qual\n",
    "    \n",
    "    def to_fastq(self, path_to_file, total_reads=100):\n",
    "        reads = self.get_reads(total_reads)\n",
    "        fos = [fq.fastq_object(**read[1]) for read in reads]\n",
    "        fq.write(fos, file_path=path_to_file)\n",
    "        return {read[0]['head']: read[0]['body'] for read in reads}, {read[1]['head']: read[1]['body'] for read in reads}, \n",
    "        "
   ]
  },
  {
   "cell_type": "code",
   "execution_count": 178,
   "metadata": {},
   "outputs": [
    {
     "name": "stderr",
     "output_type": "stream",
     "text": [
      "100%|██████████| 5/5 [00:00<00:00, 41.67it/s]\n"
     ]
    }
   ],
   "source": [
    "ill = Illumina()\n",
    "truth, reads = ill.to_fastq('reads.fastq', 5)"
   ]
  },
  {
   "cell_type": "code",
   "execution_count": null,
   "metadata": {},
   "outputs": [],
   "source": [
    "mpu.io.write('truth.pickle', truth)"
   ]
  },
  {
   "cell_type": "code",
   "execution_count": 164,
   "metadata": {},
   "outputs": [],
   "source": [
    "truth = mpu.io.read('truth.pickle')"
   ]
  },
  {
   "cell_type": "code",
   "execution_count": 179,
   "metadata": {},
   "outputs": [
    {
     "data": {
      "text/plain": [
       "{'a_num': 73,\n",
       " 'g_num': 62,\n",
       " 't_num': 68,\n",
       " 'c_num': 47,\n",
       " 'gc_content': 0.436,\n",
       " 'at_content': 0.5640000000000001,\n",
       " 'qual': 6.2,\n",
       " 'qual_median': 5.0,\n",
       " 'qual_variance': 21.012048192771083,\n",
       " 'qual_min': 2,\n",
       " 'qual_max': 40}"
      ]
     },
     "execution_count": 179,
     "metadata": {},
     "output_type": "execute_result"
    }
   ],
   "source": [
    "fq.fastq_object(**ill.get_one_read()[1]).info"
   ]
  },
  {
   "attachments": {},
   "cell_type": "markdown",
   "metadata": {},
   "source": [
    "С параметрами:\n",
    "\n",
    "java -jar trimmomatic-0.35.jar SE -phred33 input.fq.gz output.fq.gz ILLUMINACLIP:TruSeq3-SE:2:30:10 LEADING:3 TRAILING:3 SLIDINGWINDOW:4:15 MINLEN:36\n",
    "\n",
    "Он все дропает\n",
    "\n",
    "Там среднее качество около 6 (при ошибке в среднем 30%). А мы просим 15 качество"
   ]
  },
  {
   "cell_type": "code",
   "execution_count": null,
   "metadata": {},
   "outputs": [],
   "source": []
  },
  {
   "cell_type": "code",
   "execution_count": null,
   "metadata": {},
   "outputs": [],
   "source": []
  }
 ],
 "metadata": {
  "kernelspec": {
   "display_name": "base",
   "language": "python",
   "name": "python3"
  },
  "language_info": {
   "codemirror_mode": {
    "name": "ipython",
    "version": 3
   },
   "file_extension": ".py",
   "mimetype": "text/x-python",
   "name": "python",
   "nbconvert_exporter": "python",
   "pygments_lexer": "ipython3",
   "version": "3.10.9"
  },
  "orig_nbformat": 4
 },
 "nbformat": 4,
 "nbformat_minor": 2
}
