{
 "cells": [
  {
   "cell_type": "code",
   "execution_count": 67,
   "metadata": {},
   "outputs": [],
   "source": [
    "import numpy as np\n",
    "import matplotlib.pyplot as plt\n",
    "from tqdm import tqdm"
   ]
  },
  {
   "cell_type": "markdown",
   "metadata": {},
   "source": [
    "# ДЗ №7 по теме перестройки в геноме"
   ]
  },
  {
   "cell_type": "markdown",
   "metadata": {},
   "source": [
    "В этом задании предстоит разобраться, на сколько хорошо и в каких пределах, жадный алгоритм подсчета перестановок будет возвращать похожее количество перестановок на то, что было в действительности."
   ]
  },
  {
   "cell_type": "markdown",
   "metadata": {},
   "source": [
    "### Симуляция (2 балла)\n",
    "Будем работать в рамках Random Breakage Model - то есть считать, что разрывы могут происходить в любом месте последовательности. В примере будем пользоваться обозначением синтенных блоков числами, а их ориентацию будем обозначать знаком (+ или -).  \n",
    "Симуляция заключается в следующем:  \n",
    "Нужно взять последовательность чисел от 1 до 1000, после чего проделать в этой последовательности k разворотов (разворот, включает в себя смену знаков). Какие стоит выбирать k, станет понятно в последнем задании."
   ]
  },
  {
   "cell_type": "markdown",
   "metadata": {},
   "source": [
    "### Жадный алгоритм сортировки поворотами (2 балла)\n",
    "Напишите жадный алгоритм сортировки разворотами (см. лекцию), который в качестве ответа возвращает количество операций разворота, которые понадобилось сделать."
   ]
  },
  {
   "cell_type": "code",
   "execution_count": 71,
   "metadata": {},
   "outputs": [
    {
     "data": {
      "text/plain": [
       "61"
      ]
     },
     "execution_count": 71,
     "metadata": {},
     "output_type": "execute_result"
    }
   ],
   "source": [
    "class Sequence:\n",
    "    def __init__(self, n: int, k: int) -> None:\n",
    "        self.n = n\n",
    "        self.k = k\n",
    "        self.blocks = np.arange(1, n+1, 1)\n",
    "        for _ in range(self.k):\n",
    "            a, b = np.random.choice(range(self.n), 2, replace=False)\n",
    "            self.rev_segment(a, b)\n",
    "\n",
    "    def rev_segment(self, a, b):\n",
    "        if a > b:\n",
    "            a, b = b, a\n",
    "        self.blocks[a:b] = - np.flip(self.blocks[a:b])\n",
    "\n",
    "    def gready_sort(self):\n",
    "        iters = 0\n",
    "        for i in range(self.n):\n",
    "            if self.blocks[i] == i + 1:\n",
    "                continue\n",
    "            for j in range(i, self.n):\n",
    "                if abs(self.blocks[j]) == i + 1:\n",
    "                    self.rev_segment(i, j+1)\n",
    "                    iters += 1\n",
    "                    break\n",
    "            if self.blocks[i] == - (i + 1):\n",
    "                self.rev_segment(i, i+1)\n",
    "                iters += 1\n",
    "        return iters\n",
    "\n",
    "seq = Sequence(100, 10)\n",
    "seq.gready_sort()"
   ]
  },
  {
   "cell_type": "markdown",
   "metadata": {},
   "source": [
    "### Анализ расстояния (4 балла)\n",
    "Постройте график зависимости расстояния которое возвращает жадный алгоритм от реального расстояния.  Проанализируйте, что происходит при небольшом количестве поворотов и когда поворотов сделано очень много.  \n",
    "Определите, при каком количестве поворотов все ломается, например, ответ отличается > чем на 25, причем жадный алгоритм возвращает меньше операций, чем происходит в симмуляции. Чтобы точнее найти количество разворотов, при котором это происходит, повторите симуляцию много раз и постройте распределение этой величины деленной на длину изначальной последовательности (1000).  \n",
    "Постарайтесь объяснить, что происходит."
   ]
  },
  {
   "cell_type": "code",
   "execution_count": 72,
   "metadata": {},
   "outputs": [
    {
     "name": "stderr",
     "output_type": "stream",
     "text": [
      "100%|██████████| 150/150 [06:32<00:00,  2.62s/it]\n"
     ]
    }
   ],
   "source": [
    "n = 1000\n",
    "count = 10\n",
    "ks = np.arange(1, 3*n, 20)\n",
    "total_rev = np.zeros_like(ks)\n",
    "\n",
    "for i, k in tqdm(enumerate(ks), total=len(ks)):\n",
    "    tmp = []\n",
    "    for _ in range(count):\n",
    "        seq = Sequence(n, k)\n",
    "        iters = seq.gready_sort()\n",
    "        tmp.append(iters)\n",
    "    total_rev[i] = np.mean(tmp)"
   ]
  },
  {
   "cell_type": "code",
   "execution_count": 76,
   "metadata": {},
   "outputs": [
    {
     "data": {
      "text/plain": [
       "[<matplotlib.lines.Line2D at 0x2430eacbdf0>]"
      ]
     },
     "execution_count": 76,
     "metadata": {},
     "output_type": "execute_result"
    },
    {
     "data": {
      "image/png": "[encoded data removed]",
      "text/plain": [
       "<Figure size 640x480 with 1 Axes>"
      ]
     },
     "metadata": {},
     "output_type": "display_data"
    }
   ],
   "source": [
    "plt.plot(ks/n, total_rev/n)\n",
    "plt.plot(ks/n, 1.5*np.ones_like(ks))"
   ]
  },
  {
   "attachments": {},
   "cell_type": "markdown",
   "metadata": {},
   "source": [
    "При большом k последовательность блоков выглядит случайно и их ориентаций. \n",
    "\n",
    "На каждом шаге алгоритма мы ставим на место 1 блок и (очень редко 2 блока поэтому будем считать, что 1). И с вероятностью 0.5 он будет со знаком + сразу и не нужно будет менять ориентацию этого блока. \n",
    "\n",
    "Получается для случайной последовательности блоков жадному алгоритму нужно 1.5 шагов в среднем, чтобы поставить 1 блок на место. Это мы и видим на графике. При k больше n послед. блоков и их ориентаций выглядит случайно"
   ]
  }
 ],
 "metadata": {
  "kernelspec": {
   "display_name": "Python 3",
   "language": "python",
   "name": "python3"
  },
  "language_info": {
   "codemirror_mode": {
    "name": "ipython",
    "version": 3
   },
   "file_extension": ".py",
   "mimetype": "text/x-python",
   "name": "python",
   "nbconvert_exporter": "python",
   "pygments_lexer": "ipython3",
   "version": "3.10.9"
  }
 },
 "nbformat": 4,
 "nbformat_minor": 4
}
