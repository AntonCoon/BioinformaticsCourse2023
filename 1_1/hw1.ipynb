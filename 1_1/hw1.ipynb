{
 "cells": [
  {
   "cell_type": "code",
   "execution_count": 5,
   "metadata": {},
   "outputs": [],
   "source": [
    "from Bio import SeqIO\n",
    "import distance"
   ]
  },
  {
   "cell_type": "code",
   "execution_count": 25,
   "metadata": {},
   "outputs": [],
   "source": [
    "f8 = list(SeqIO.parse(\"data/f8.fasta\", \"fasta\"))\n",
    "gattaca = list(SeqIO.parse(\"data/gattaca.fasta\", \"fasta\"))"
   ]
  },
  {
   "attachments": {},
   "cell_type": "markdown",
   "metadata": {},
   "source": [
    "1. Хэмминг (1 балл)  \n",
    "Реализуйте вычисление расстояния Хэмминга."
   ]
  },
  {
   "cell_type": "code",
   "execution_count": 24,
   "metadata": {},
   "outputs": [],
   "source": [
    "def hamming(s1, s2):\n",
    "    l = 0\n",
    "    for i, j in zip(s1, s2):\n",
    "        if i != j:\n",
    "            l += 1\n",
    "    return l"
   ]
  },
  {
   "attachments": {},
   "cell_type": "markdown",
   "metadata": {},
   "source": [
    "Проверка"
   ]
  },
  {
   "cell_type": "code",
   "execution_count": 23,
   "metadata": {},
   "outputs": [
    {
     "data": {
      "text/plain": [
       "True"
      ]
     },
     "execution_count": 23,
     "metadata": {},
     "output_type": "execute_result"
    }
   ],
   "source": [
    "s1 = f8[0].seq[:1000]\n",
    "s2 = f8[1].seq[:1000]\n",
    "\n",
    "hamming(s1, s2) == distance.hamming(s1, s2)"
   ]
  },
  {
   "attachments": {},
   "cell_type": "markdown",
   "metadata": {},
   "source": [
    "2. Ближайшая подстрока (1 балл)  \n",
    "Даны 2 строки над алфавитом ATGC, реализуйте алгоритм,\n",
    " который позволит находить подстроку в более длинной \n",
    " строке, которая ближе всего по расстоянию Хэминга к \n",
    " боллее короткой. Верните позицию начала этой подстроки, \n",
    " саму подстроку и рассстояние хэмминга."
   ]
  },
  {
   "cell_type": "code",
   "execution_count": 137,
   "metadata": {},
   "outputs": [],
   "source": [
    "def closest_substring(s1, s2):\n",
    "    if len(s1) > len(s2):\n",
    "        s2, s1 = s1, s2\n",
    "    st_pos = 0\n",
    "    min_ham = float('inf')\n",
    "    sub_s = ''\n",
    "    for i in range(len(s2)):\n",
    "        j = i + len(s1)\n",
    "        if j > len(s2):\n",
    "            break\n",
    "        tmp = hamming(s2[i:j], s1)\n",
    "        if tmp < min_ham:\n",
    "            min_ham = tmp\n",
    "            st_pos = i\n",
    "            sub_s = s2[i:j]\n",
    "    return st_pos, sub_s, min_ham"
   ]
  },
  {
   "attachments": {},
   "cell_type": "markdown",
   "metadata": {},
   "source": [
    "Проверка"
   ]
  },
  {
   "cell_type": "code",
   "execution_count": 138,
   "metadata": {},
   "outputs": [
    {
     "data": {
      "text/plain": [
       "(3, 'AGGG', 0)"
      ]
     },
     "execution_count": 138,
     "metadata": {},
     "output_type": "execute_result"
    }
   ],
   "source": [
    "s1 = 'GGGAGGG'\n",
    "s2 = 'AGGG'\n",
    "closest_substring(s1, s2) #(st_pos, sub_s, min_ham)"
   ]
  },
  {
   "cell_type": "code",
   "execution_count": 139,
   "metadata": {},
   "outputs": [
    {
     "data": {
      "text/plain": [
       "(2, 'GAG', 0)"
      ]
     },
     "execution_count": 139,
     "metadata": {},
     "output_type": "execute_result"
    }
   ],
   "source": [
    "s1 = 'GGGAGGG'\n",
    "s2 = 'GAG'\n",
    "closest_substring(s1, s2) #(st_pos, sub_s, min_ham)"
   ]
  },
  {
   "cell_type": "code",
   "execution_count": 140,
   "metadata": {},
   "outputs": [
    {
     "data": {
      "text/plain": [
       "(0, 'GGGA', 1)"
      ]
     },
     "execution_count": 140,
     "metadata": {},
     "output_type": "execute_result"
    }
   ],
   "source": [
    "s1 = 'GGGAGGG'\n",
    "s2 = 'GGAA'\n",
    "closest_substring(s1, s2) #(st_pos, sub_s, min_ham)"
   ]
  },
  {
   "attachments": {},
   "cell_type": "markdown",
   "metadata": {},
   "source": [
    "3. Левенштейн (4 балла)  \n",
    "Реализуйте алгоритм вычисления расстояния \n",
    "редактирования. *O(n•m)* по времени и *O(min(n, m))* по памяти \n",
    "(обратите внимание на то, что возвращать способ получения из \n",
    "одной строки другую не нужно). Алгоритм возвращаеет одно число - \n",
    "расстояние редактирования между входными строками."
   ]
  },
  {
   "cell_type": "code",
   "execution_count": 114,
   "metadata": {},
   "outputs": [],
   "source": [
    "def levenshtein(s1, s2):\n",
    "    if len(s1) > len(s2):\n",
    "        s2, s1 = s1, s2\n",
    "    d = [[0 for _ in range(len(s1) + 1)] for _ in range(2)] #len(s1) <= len(s2)\n",
    "    for j in range(len(s2) + 1):\n",
    "        for i in range(len(s1) + 1):\n",
    "            if min(i, j) == 0:\n",
    "                d[j%2][i] = max(i, j)\n",
    "            elif s1[i-1] == s2[j-1]:\n",
    "                d[j%2][i] = d[j%2-1][i-1]\n",
    "            else:\n",
    "                d[j%2][i] = min(d[j%2-1][i], d[j%2][i-1], d[j%2-1][i-1]) + 1\n",
    "    return d[len(s2)%2][-1]"
   ]
  },
  {
   "attachments": {},
   "cell_type": "markdown",
   "metadata": {},
   "source": [
    "Проверка"
   ]
  },
  {
   "cell_type": "code",
   "execution_count": 115,
   "metadata": {},
   "outputs": [
    {
     "data": {
      "text/plain": [
       "True"
      ]
     },
     "execution_count": 115,
     "metadata": {},
     "output_type": "execute_result"
    }
   ],
   "source": [
    "s1 = f8[0].seq[200:300]\n",
    "s2 = f8[1].seq[100:150]\n",
    "\n",
    "levenshtein(s1, s2) == distance.levenshtein(s1, s2)"
   ]
  }
 ],
 "metadata": {
  "kernelspec": {
   "display_name": "Python 3",
   "language": "python",
   "name": "python3"
  },
  "language_info": {
   "codemirror_mode": {
    "name": "ipython",
    "version": 3
   },
   "file_extension": ".py",
   "mimetype": "text/x-python",
   "name": "python",
   "nbconvert_exporter": "python",
   "pygments_lexer": "ipython3",
   "version": "3.10.6"
  },
  "orig_nbformat": 4,
  "vscode": {
   "interpreter": {
    "hash": "916dbcbb3f70747c44a77c7bcd40155683ae19c65e1c03b4aa3499c5328201f1"
   }
  }
 },
 "nbformat": 4,
 "nbformat_minor": 2
}
