{
  "cells": [
    {
      "cell_type": "markdown",
      "metadata": {
        "id": "rEo3N7WGnuH6"
      },
      "source": [
        "# Домашнее задание №4\n",
        "\n",
        "Это домашнее задание можно выполнять целиком в этом ноутбуке, либо алгоритмы написать в отдельном файле и импортировать сюда, для использования. В папке data лежат два файла islands.fasta и nonIslands.fasta. В них хранятся прочтения из CpG островков и из обычных участков генома соответственно, этими данными нужно будет воспользоваться в первом задании."
      ]
    },
    {
      "cell_type": "markdown",
      "metadata": {
        "id": "ylJERdPKnuH_"
      },
      "source": [
        "## Задача №1 (1)\n",
        "Определите частоты генерации для каждого из нуклеотидов внутри CpG островков и вне их. Посчитайте так-же частоты для всех упорядоченных пар нуклеотидов и сравните частоту пары CG внутри островков и снаружи. Сделайте вывод. "
      ]
    },
    {
      "cell_type": "code",
      "source": [
        "import pandas as pd\n",
        "import itertools\n",
        "from collections import defaultdict\n",
        "from typing import List, Dict, Tuple\n",
        "import numpy as np"
      ],
      "metadata": {
        "id": "dyDqilJlnvIh"
      },
      "execution_count": 65,
      "outputs": []
    },
    {
      "cell_type": "code",
      "source": [
        "# support function\n",
        "\n",
        "def calculate_frequencies(file_path: str):\n",
        "    with open(file_path, \"r\") as f:\n",
        "        sequences = f.read().splitlines()[1::2]\n",
        "        frequencies = {\"A\": 0, \"C\": 0, \"G\": 0, \"T\": 0}\n",
        "        pair_frequencies = {\"\".join(pair): 0 for pair in itertools.product(frequencies.keys(), repeat=2)}\n",
        "        for sequence in sequences:\n",
        "            for i, nucleotide in enumerate(sequence):\n",
        "                frequencies[nucleotide] += 1\n",
        "                if i > 0:\n",
        "                    pair_frequencies[sequence[i-1:i+1]] += 1\n",
        "        return frequencies, pair_frequencies\n",
        "\n",
        "def print_matrix(matrix: List[List], title: str):\n",
        "    df = pd.DataFrame(matrix, columns=[\"A\", \"C\", \"G\", \"T\"], index=[\"A\", \"C\", \"G\", \"T\"])\n",
        "    print(title)\n",
        "    print(df)\n"
      ],
      "metadata": {
        "id": "-F1XkbMknyO6"
      },
      "execution_count": 66,
      "outputs": []
    },
    {
      "cell_type": "code",
      "source": [
        "# Calculate frequencies and pair frequencies\n",
        "\n",
        "islands_freq, islands_pair_freq = calculate_frequencies(\"islands.fasta\")\n",
        "non_islands_freq, non_islands_pair_freq = calculate_frequencies(\"nonIslands.fasta\")"
      ],
      "metadata": {
        "id": "55bWEJmrn8jF"
      },
      "execution_count": 5,
      "outputs": []
    },
    {
      "cell_type": "code",
      "source": [
        "print(\"Frequencies inside CpG islands:\")\n",
        "for nucleotide, frequency in islands_freq.items():\n",
        "    print(f\"{nucleotide}: {round(frequency / sum(islands_freq.values()), 6)}\")\n",
        "print()\n",
        "print(\"Frequencies outside CpG islands:\")\n",
        "for nucleotide, frequency in non_islands_freq.items():\n",
        "    print(f\"{nucleotide}: {round(frequency / sum(non_islands_freq.values()), 6)}\")"
      ],
      "metadata": {
        "colab": {
          "base_uri": "https://localhost:8080/"
        },
        "id": "1hLHXIsUoZRC",
        "outputId": "3f275de4-e56a-482e-fb9f-3b08a7cf748d"
      },
      "execution_count": 6,
      "outputs": [
        {
          "output_type": "stream",
          "name": "stdout",
          "text": [
            "Frequencies inside CpG islands:\n",
            "A: 0.202462\n",
            "C: 0.296397\n",
            "G: 0.298277\n",
            "T: 0.202864\n",
            "\n",
            "Frequencies outside CpG islands:\n",
            "A: 0.290077\n",
            "C: 0.195946\n",
            "G: 0.198234\n",
            "T: 0.315744\n"
          ]
        }
      ]
    },
    {
      "cell_type": "code",
      "source": [
        "# Calculate pair frequency matrix for CpG islands\n",
        "\n",
        "cpg_islands_pair_freq = [[islands_pair_freq.get(n1 + n2, 0) / sum([islands_pair_freq.get(n1 + n3, 0) for n3 in \"ACGT\"]) for n2 in \"ACGT\"] for n1 in \"ACGT\"]\n",
        "print_matrix(cpg_islands_pair_freq, \"Pair frequency matrix for CpG islands:\")"
      ],
      "metadata": {
        "colab": {
          "base_uri": "https://localhost:8080/"
        },
        "id": "pZAvkqwCofnp",
        "outputId": "45e78d41-1d03-4c1a-a418-89eabebbfef6"
      },
      "execution_count": 7,
      "outputs": [
        {
          "output_type": "stream",
          "name": "stdout",
          "text": [
            "Pair frequency matrix for CpG islands:\n",
            "          A         C         G         T\n",
            "A  0.252965  0.226691  0.355276  0.165069\n",
            "C  0.212177  0.346783  0.198988  0.242052\n",
            "G  0.200725  0.295684  0.347172  0.156420\n",
            "T  0.140276  0.293477  0.314688  0.251559\n"
          ]
        }
      ]
    },
    {
      "cell_type": "code",
      "source": [
        "# Calculate pair frequency matrix for non-CpG islands\n",
        "\n",
        "non_cpg_islands_pair_freq = [[non_islands_pair_freq.get(n1 + n2, 0) / sum([non_islands_pair_freq.get(n1 + n3, 0) for n3 in \"ACGT\"]) for n2 in \"ACGT\"] for n1 in \"ACGT\"]\n",
        "print_matrix(non_cpg_islands_pair_freq, \"Pair frequency matrix for non-CpG islands:\")"
      ],
      "metadata": {
        "colab": {
          "base_uri": "https://localhost:8080/"
        },
        "id": "ww0dkNGCojdj",
        "outputId": "642bd146-f46f-4743-e4f8-26ff51780c46"
      },
      "execution_count": 8,
      "outputs": [
        {
          "output_type": "stream",
          "name": "stdout",
          "text": [
            "Pair frequency matrix for non-CpG islands:\n",
            "          A         C         G         T\n",
            "A  0.314032  0.160684  0.240730  0.284553\n",
            "C  0.343869  0.253536  0.027851  0.374744\n",
            "G  0.308569  0.172387  0.251412  0.267632\n",
            "T  0.222417  0.207934  0.231397  0.338252\n"
          ]
        }
      ]
    },
    {
      "cell_type": "code",
      "source": [
        "# Calculate CG frequency inside and outside CpG islands\n",
        "\n",
        "cpg_islands_cg_freq = islands_pair_freq.get(\"CG\", 0) / sum([islands_pair_freq.get(\"C\" + n, 0) for n in \"ACGT\"])\n",
        "non_cpg_islands_cg_freq = non_islands_pair_freq.get(\"CG\", 0) / sum([non_islands_pair_freq.get(\"C\" + n, 0) for n in \"ACGT\"])\n",
        "print()\n",
        "print(f\"CG frequency inside CpG islands: {round(cpg_islands_cg_freq, 5)}\")\n",
        "print()\n",
        "print(f\"CG frequency outside CpG islands: {round(non_cpg_islands_cg_freq, 5)}\")"
      ],
      "metadata": {
        "colab": {
          "base_uri": "https://localhost:8080/"
        },
        "id": "gknJyd1XosBv",
        "outputId": "d71360a4-6fec-432e-edb1-3271f5cfa3f9"
      },
      "execution_count": 9,
      "outputs": [
        {
          "output_type": "stream",
          "name": "stdout",
          "text": [
            "\n",
            "CG frequency inside CpG islands: 0.19899\n",
            "\n",
            "CG frequency outside CpG islands: 0.02785\n"
          ]
        }
      ]
    },
    {
      "cell_type": "markdown",
      "source": [
        "Таким образом, вероятность появления CpG выше внутри островков, чем снаружи"
      ],
      "metadata": {
        "id": "AdOxmdjdpakp"
      }
    },
    {
      "cell_type": "markdown",
      "metadata": {
        "id": "vXmLjLajnuIA"
      },
      "source": [
        "## Задача №2 (2)\n",
        "Напишите марковскую модель, которая имеет открытые состояния {A, T, G, C}, и скрытые состояния {+, -}. Когда модель в состоянии **+**, то вероятность генерации некоторого символа нуклеотида соответствует его частоте внутри CpG островков, вычислиному в первом задании, если состояние **-**, то частоте вне островков. Вероятность остаться внутри островка 0.95, а перейти в обычный геном 0.05. Для остальной части генома соответствующие вероятности 0.995 и 0.005. Саму модель можно реализовать в виде итератора, определив метод next, который возвращает пару - состояние и нуклеотид, который в этом состоянии произведен.    \n",
        "Воспользуйтесь данной моделью для того чтобы сгенерировать набор из 20 последовательностей длинной от 1 000 до 100 000, причем к каждой последовательности должна прилагаться последовательность состояний."
      ]
    },
    {
      "cell_type": "code",
      "source": [
        "# Calculate probabilities of nucleotides inside and outside CpG islands\n",
        "\n",
        "islands_prob = {nucleotide: islands_freq[nucleotide] / sum(islands_freq.values()) for nucleotide in \"ACGT\"}\n",
        "non_islands_prob = {nucleotide: non_islands_freq[nucleotide] / sum(non_islands_freq.values()) for nucleotide in \"ACGT\"}\n"
      ],
      "metadata": {
        "id": "q8zuhk35qvmM"
      },
      "execution_count": 10,
      "outputs": []
    },
    {
      "cell_type": "code",
      "source": [
        "# Define transition probabilities\n",
        "\n",
        "island_transition_prob = 0.95\n",
        "non_island_transition_prob = 0.005\n"
      ],
      "metadata": {
        "id": "LxUsePFCqxbB"
      },
      "execution_count": 11,
      "outputs": []
    },
    {
      "cell_type": "code",
      "source": [
        "import random\n",
        "\n",
        "class MarkovModel:\n",
        "    def __init__(self, islands_prob: Dict[str, float], non_islands_prob: Dict[str, float], island_transition_prob: float, non_island_transition_prob: float):\n",
        "        self.islands_prob = islands_prob\n",
        "        self.non_islands_prob = non_islands_prob\n",
        "        self.island_transition_prob = island_transition_prob\n",
        "        self.non_island_transition_prob = non_island_transition_prob\n",
        "        self.current_state = \"+\"\n",
        "        \n",
        "    def next(self):\n",
        "        if self.current_state == \"+\":\n",
        "            nucleotide = random.choices(list(self.islands_prob.keys()), weights=list(self.islands_prob.values()))[0]\n",
        "            if random.random() < self.island_transition_prob:\n",
        "                self.current_state = \"+\"\n",
        "            else:\n",
        "                self.current_state = \"-\"\n",
        "        else:\n",
        "            nucleotide = random.choices(list(self.non_islands_prob.keys()), weights=list(self.non_islands_prob.values()))[0]\n",
        "            if random.random() < self.non_island_transition_prob:\n",
        "                self.current_state = \"-\"\n",
        "            else:\n",
        "                self.current_state = \"+\"\n",
        "        \n",
        "        return (self.current_state, nucleotide)\n"
      ],
      "metadata": {
        "id": "Ta0s_EXKq1gt"
      },
      "execution_count": 67,
      "outputs": []
    },
    {
      "cell_type": "code",
      "source": [
        "for i in range(20):\n",
        "    length = random.randint(100, 10000)\n",
        "    model = MarkovModel(islands_prob, non_islands_prob, island_transition_prob, non_island_transition_prob)\n",
        "    sequence = \"\"\n",
        "    states = \"\"\n",
        "    for j in range(length):\n",
        "        state, nucleotide = model.next()\n",
        "        states += state\n",
        "        sequence += nucleotide\n"
      ],
      "metadata": {
        "id": "-qUWvYTNq4Ii"
      },
      "execution_count": 78,
      "outputs": []
    },
    {
      "cell_type": "markdown",
      "metadata": {
        "id": "NkRnNNsHnuIA"
      },
      "source": [
        "## Задача №3 (4)\n",
        "Напишите алгоритм Витерби для восстановления последовательности скрытых состояний марковской модели из второго задаания. Воспользуйтесь им, воссстановив состояния тех последовательностей, которые вы получили во втором задании и посчитайте TP, TN, FP, FN по количеству правильно или ошибочно предсказанных позиций из CpG остравков. "
      ]
    },
    {
      "cell_type": "code",
      "source": [
        "import numpy as np\n",
        "\n",
        "def viterbi_algorithm(states: str, sequence: str, islands_prob: Dict[str, float], non_islands_prob: Dict[str, float], p_islands: float = 0.95, p_non_islands: float = 0.005):\n",
        "    # Создаем матрицу вероятностей\n",
        "    prob_matrix = np.zeros((len(states), len(sequence)))\n",
        "    # Заполняем первый столбец матрицы вероятностей\n",
        "    prob_matrix[:, 0] = [islands_prob[sequence[0]] if s == '+' else non_islands_prob[sequence[0]] for s in states]\n",
        "    # Создаем матрицу для хранения предыдущих состояний\n",
        "    prev_states = np.zeros((len(states), len(sequence)), dtype=int)\n",
        "    # Заполняем матрицы вероятностей и предыдущих состояний\n",
        "    for j in range(1, len(sequence)):\n",
        "        p_emit = np.array([islands_prob[sequence[j]] if s == '+' else non_islands_prob[sequence[j]] for s in states])\n",
        "        p_prev = prob_matrix[:, j-1] * (p_islands if states == '+' else p_non_islands)\n",
        "        prob_matrix[:, j] = p_emit * np.max(p_prev, axis=0)\n",
        "        prev_states[:, j] = np.argmax(p_prev, axis=0)\n",
        "    # Выбираем последнее состояние с максимальной вероятностью\n",
        "    last_state = np.argmax(prob_matrix[:, -1])\n",
        "    # Строим последовательность скрытых состояний с помощью матрицы предыдущих состояний\n",
        "    hidden_states = [last_state]\n",
        "    for j in range(len(sequence)-1, 0, -1):\n",
        "        last_state = prev_states[last_state, j]\n",
        "        hidden_states.insert(0, last_state)\n",
        "    return ''.join(states[i] for i in hidden_states)\n",
        "\n",
        "\n",
        "pred_states = viterbi_algorithm(states, sequence, islands_prob, non_islands_prob)"
      ],
      "metadata": {
        "id": "BftMTXY0kBci"
      },
      "execution_count": 73,
      "outputs": []
    },
    {
      "cell_type": "code",
      "source": [
        "TP = sum(1 for i in range(len(states)) if states[i] == '+' and pred_states[i] == '+')\n",
        "TN = sum(1 for i in range(len(states)) if states[i] == '-' and pred_states[i] == '-')\n",
        "FP = sum(1 for i in range(len(states)) if states[i] == '-' and pred_states[i] == '+')\n",
        "FN = sum(1 for i in range(len(states)) if states[i] == '+' and pred_states[i] == '-')\n",
        "\n",
        "\n",
        "def accuracy(TP: int, TN: int, FP: int, FN: int):\n",
        "    right = TP + TN\n",
        "    wrong = FP + FN\n",
        "    total = right + wrong\n",
        "    return right / total\n",
        "\n",
        "print(f\"Result: \") \n",
        "print(f\"correct={round(accuracy(TP, TN, FP, FN), 4)}, \")\n",
        "print(f\"TP={TP}, TN={TN}, FP={FP}, FN={FN}\")"
      ],
      "metadata": {
        "colab": {
          "base_uri": "https://localhost:8080/"
        },
        "id": "kaBVuEGFfT3u",
        "outputId": "4ff52f87-c402-4007-8eca-d147daf7118b"
      },
      "execution_count": 75,
      "outputs": [
        {
          "output_type": "stream",
          "name": "stdout",
          "text": [
            "Result: \n",
            "correct=0.9496, \n",
            "TP=16683, TN=4, FP=840, FN=45\n"
          ]
        }
      ]
    },
    {
      "cell_type": "markdown",
      "metadata": {
        "id": "9J6WtJcknuIB"
      },
      "source": [
        "## Задача №4 (4)\n",
        "Напишите алгоритм вперед назад для модели из второго задания. Пользуясь этим алгоритмом найдите вероятности того, что модель находилась в состоянии **+** для каждой позиции строк из второго задания. Устанавливая различные пороговые значения, определите позиции соответствующие CpG островкам и посчитайте TP. Постройте график зависимости TP от выбранного порогового значения. Есть ли пороговые значения при которых TP больше чем в задании №3?"
      ]
    }
  ],
  "metadata": {
    "kernelspec": {
      "display_name": "Python 3",
      "language": "python",
      "name": "python3"
    },
    "language_info": {
      "codemirror_mode": {
        "name": "ipython",
        "version": 3
      },
      "file_extension": ".py",
      "mimetype": "text/x-python",
      "name": "python",
      "nbconvert_exporter": "python",
      "pygments_lexer": "ipython3",
      "version": "3.8.6"
    },
    "colab": {
      "provenance": []
    }
  },
  "nbformat": 4,
  "nbformat_minor": 0
}