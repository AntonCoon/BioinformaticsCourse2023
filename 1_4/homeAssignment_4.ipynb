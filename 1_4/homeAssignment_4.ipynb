{
 "cells": [
  {
   "cell_type": "markdown",
   "metadata": {},
   "source": [
    "# Домашнее задание №4\n",
    "\n",
    "Это домашнее задание можно выполнять целиком в этом ноутбуке, либо алгоритмы написать в отдельном файле и импортировать сюда, для использования. В папке data лежат два файла islands.fasta и nonIslands.fasta. В них хранятся прочтения из CpG островков и из обычных участков генома соответственно, этими данными нужно будет воспользоваться в первом задании."
   ]
  },
  {
   "cell_type": "code",
   "execution_count": 47,
   "metadata": {},
   "outputs": [],
   "source": [
    "from Bio import SeqIO\n",
    "import numpy as np\n",
    "import numpy.random as rdm\n",
    "import matplotlib.pyplot as plt\n",
    "from sklearn.metrics import confusion_matrix, f1_score, accuracy_score"
   ]
  },
  {
   "cell_type": "markdown",
   "metadata": {},
   "source": [
    "## Задача №1 (1)\n",
    "Определите частоты генерации для каждого из нуклеотидов внутри CpG островков и вне их. Посчитайте так-же частоты для всех упорядоченных пар нуклеотидов и сравните частоту пары CG внутри островков и снаружи. Сделайте вывод. "
   ]
  },
  {
   "cell_type": "code",
   "execution_count": 48,
   "metadata": {},
   "outputs": [
    {
     "data": {
      "text/plain": [
       "(0.21849631407787068, 0.028310225522135517)"
      ]
     },
     "execution_count": 48,
     "metadata": {},
     "output_type": "execute_result"
    }
   ],
   "source": [
    "p_in_pairs = {a: {b: .0 for b in ['A', 'C', 'G', 'T']} for a in ['A', 'C', 'G', 'T']}\n",
    "p_out_pairs = {a: {b: .0 for b in ['A', 'C', 'G', 'T']} for a in ['A', 'C', 'G', 'T']}\n",
    "\n",
    "\n",
    "for record in SeqIO.parse(\"data/islands.fasta\", \"fasta\"):\n",
    "    for a in ['A', 'C', 'G', 'T']:\n",
    "        for b in ['A', 'C', 'G', 'T']:\n",
    "            p_in_pairs[a][b] += record.seq.count(a + b)\n",
    "\n",
    "for a in ['A', 'C', 'G', 'T']:\n",
    "    count = 0\n",
    "    for b in ['A', 'C', 'G', 'T']:\n",
    "        count += p_in_pairs[a][b]\n",
    "    for b in ['A', 'C', 'G', 'T']:\n",
    "        p_in_pairs[a][b] /= count\n",
    "\n",
    "for record in SeqIO.parse(\"data/nonislands.fasta\", \"fasta\"):\n",
    "    for a in ['A', 'C', 'G', 'T']:\n",
    "        for b in ['A', 'C', 'G', 'T']:\n",
    "            p_out_pairs[a][b] += record.seq.count(a + b)\n",
    "\n",
    "for a in ['A', 'C', 'G', 'T']:\n",
    "    count = 0\n",
    "    for b in ['A', 'C', 'G', 'T']:\n",
    "        count += p_out_pairs[a][b]\n",
    "    for b in ['A', 'C', 'G', 'T']:\n",
    "        p_out_pairs[a][b] /= count\n",
    "\n",
    "\n",
    "p_in_pairs['C']['G'], p_out_pairs['C']['G']"
   ]
  },
  {
   "cell_type": "code",
   "execution_count": 49,
   "metadata": {},
   "outputs": [
    {
     "data": {
      "text/plain": [
       "(0.29639660831509845, 0.19613640750872205)"
      ]
     },
     "execution_count": 49,
     "metadata": {},
     "output_type": "execute_result"
    }
   ],
   "source": [
    "p_in = {a: 0. for a in ['A', 'C', 'G', 'T']}\n",
    "p_out = {a: 0. for a in ['A', 'C', 'G', 'T']}\n",
    "\n",
    "\n",
    "for record in SeqIO.parse(\"data/islands.fasta\", \"fasta\"):\n",
    "    for a in ['A', 'C', 'G', 'T']:\n",
    "        p_in[a] += record.seq.count(a)\n",
    "\n",
    "count = 0\n",
    "for a in ['A', 'C', 'G', 'T']:\n",
    "    count += p_in[a]\n",
    "for a in ['A', 'C', 'G', 'T']:\n",
    "    p_in[a] /= count\n",
    "\n",
    "for record in SeqIO.parse(\"data/nonislands.fasta\", \"fasta\"):\n",
    "    for a in ['A', 'C', 'G', 'T']:\n",
    "        p_out[a] += record.seq.count(a)\n",
    "\n",
    "count = 0\n",
    "for a in ['A', 'C', 'G', 'T']:\n",
    "    count += p_out[a]\n",
    "for a in ['A', 'C', 'G', 'T']:\n",
    "    p_out[a] /= count\n",
    "\n",
    "\n",
    "p_in['C'], p_out['C']"
   ]
  },
  {
   "cell_type": "code",
   "execution_count": 50,
   "metadata": {},
   "outputs": [
    {
     "data": {
      "text/plain": [
       "{'A': 0.28929861153616176,\n",
       " 'C': 0.19613640750872205,\n",
       " 'G': 0.1984481597792771,\n",
       " 'T': 0.3161168211758391}"
      ]
     },
     "execution_count": 50,
     "metadata": {},
     "output_type": "execute_result"
    }
   ],
   "source": [
    "p_out"
   ]
  },
  {
   "cell_type": "code",
   "execution_count": 51,
   "metadata": {},
   "outputs": [
    {
     "data": {
      "text/plain": [
       "{'A': 0.20246225382932168,\n",
       " 'C': 0.29639660831509845,\n",
       " 'G': 0.29827680525164113,\n",
       " 'T': 0.20286433260393874}"
      ]
     },
     "execution_count": 51,
     "metadata": {},
     "output_type": "execute_result"
    }
   ],
   "source": [
    "p_in"
   ]
  },
  {
   "attachments": {},
   "cell_type": "markdown",
   "metadata": {},
   "source": [
    "Получается, что внутри CG островков частота встретить пару нуклеотидов CG значительно выше."
   ]
  },
  {
   "cell_type": "markdown",
   "metadata": {},
   "source": [
    "## Задача №2 (2)\n",
    "Напишите марковскую модель, которая имеет открытые состояния {A, T, G, C}, и скрытые состояния {+, -}. Когда модель в состоянии **+**, то вероятность генерации некоторого символа нуклеотида соответствует его частоте внутри CpG островков, вычислиному в первом задании, если состояние **-**, то частоте вне островков. Вероятность остаться внутри островка 0.95, а перейти в обычный геном 0.05. Для остальной части генома соответствующие вероятности 0.995 и 0.005. Саму модель можно реализовать в виде итератора, определив метод next, который возвращает пару - состояние и нуклеотид, который в этом состоянии произведен.    \n",
    "Воспользуйтесь данной моделью для того чтобы сгенерировать набор из 20 последовательностей длинной от 1 000 до 100 000, причем к каждой последовательности должна прилагаться последовательность состояний."
   ]
  },
  {
   "cell_type": "code",
   "execution_count": 52,
   "metadata": {},
   "outputs": [],
   "source": [
    "class MarkovChain:\n",
    "    def __init__(self, first_nucleotide, state, p_in, p_out) -> None:\n",
    "        self.a = first_nucleotide\n",
    "        self.state = state\n",
    "        self.p_in = list(p_in.values())\n",
    "        self.p_out = list(p_out.values())\n",
    "        self.keys = ['A', 'C', 'G', 'T']\n",
    "        \n",
    "\n",
    "    def change_state(self):\n",
    "        if self.state == \"+\" and rdm.rand() > 0.95:\n",
    "            self.state = \"-\"\n",
    "        elif self.state == \"-\" and rdm.rand() > 0.995:\n",
    "            self.state = \"+\"\n",
    "\n",
    "    def next_nucleotide(self):\n",
    "        if self.state == \"+\":\n",
    "            self.a = self.seq_in[self.i1]\n",
    "            self.i1 += 1\n",
    "        else:\n",
    "            self.a = self.seq_out[self.i2]\n",
    "            self.i2 += 1\n",
    "\n",
    "    def __iter__(self):\n",
    "        self.total = rdm.randint(1000, 100000)\n",
    "        self.seq_in = rdm.choice(['A', 'C', 'G', 'T'], self.total, p=self.p_in)\n",
    "        self.seq_out = rdm.choice(['A', 'C', 'G', 'T'], self.total, p=self.p_out)\n",
    "        self.i1 = 0\n",
    "        self.i2 = 0\n",
    "        return self\n",
    "\n",
    "    def __next__(self):\n",
    "        if self.i1 + self.i2 < self.total:\n",
    "            self.change_state()\n",
    "            self.next_nucleotide()\n",
    "            return self.a, self.state\n",
    "        else:\n",
    "            raise StopIteration\n",
    "        \n",
    "    def __len__(self):\n",
    "        return self.total"
   ]
  },
  {
   "cell_type": "code",
   "execution_count": 53,
   "metadata": {},
   "outputs": [
    {
     "name": "stdout",
     "output_type": "stream",
     "text": [
      "TTTGGTCCGCATTTGTACTAGCCTGGCCTCGATATGGTTCCAGAACTTATTGAAAAGTTAGATCTGCGGCAAGCTTAATCTCCCGTTAAAATCACAATCGTAGCTGTACTTCCCTAGAAACCAGCAATTACGGTGATGCCAGAAGCACAATGTTAGGTCGTAGTTTGTTATTTATACTTTCAATTATCTTTTAGCGCCAACATCTTTCCCGCAAATGGTCATACTGCAACAAGAGCAGCACTCCCCCACATTGACCATCCGACGTATAGGATATTGAATTCTTAACTGTCCAACCGATTTATAAGTCACTGTAACTAAGGCTGTTTTTCTCTAATGTGCTACCTACTTCCATTTCGAGACAAGTTGAGAGATAAATGCACTTTATCCTTATGAAGTGCTGTTACTCTAATCGTTAGTGCCTTTCATATATTAGCGAGGATTGACACGGGTGCTTAAAGTAATGTGATGACAACACTACTGGTTTAATCAATCTTCTGGGACGCAAACGTCCGTGTTCCCTTGGGGGTACGTCCCATTGGTCCGCGACCTTGACTAGAAGTTATTATGATGATGAGATTGAAAGAGTCTCGCTAGTTGGAGTTTTAAACCCCGAGGCACTAGATCTAAGGTTGACTTACAAGTGATATATTCGCCTGAAGTTAAATTTTAGCCACGCCTTGATGAGATCAATTCCCAAAAAGTAAAGACTGCTGTAAACCCGCTTTATACTTTTCGGATAAGCCGAGATAGTTGACGGTGTGCGGTCGGGATGTCATCCAATAATTAAGGTTCTTTCTTGCACATTCAGCTACCGCCATCGCGCTCGTTGGATACGGAAGTACAATTGCTGAAATAAACTAAACCCTTGTCTATTACTTTATCTTTGGTTAATCAAGACAACCCTAAAAAGCAAAGTAAATATGAGTCGTACCCATGCCACCCATAAACACAGTGGCCATGAGTACATCTTGCTATTGGCGTACAGAAAGCCGCTCACTATTGGAATGATTTGGTTCATGTTCGAGCGGTCATAGAAGTCGATCATCTGCTTCAAAACTACTAAAAGGGGTGAAGGGCCCATCCAATTTTGAACCACGAGAGTAATACCCCAATGAATTAAAAAATTCATCCTATATGTGATAATTGGTCTTGCTATATAGGACATCTATGCTACCATTAACAGACTGGCTCACCACTTCCAGTAGTTCATCGTGTGGAGGCTGAGCTCCGTTCTTGCAACATAGAATTGTTCACTTATATCTAAAGGAAGTACGAAATAAATCGTTTGGTAATACGCTGTGAGATATGCTATACCAGATCACGATGTTAGTGCCCACAAGTCAAGCGACACATAACATACAGCTGCACTATACTGATGAGATGGCGAGACAGCCACAACGATAGGCCTCAATGCGTTGGCTCATTTCAGAACTATATCTTCCGATAGCTGCCTACTCTTTAATATTCTGTTTAGTTACTCCCTAGCGTTCGAGCATCTAACGAGATTCCTAATACCGGGCACGTGGCTCGCTTCGGCTTCGGAATCACTAGTCTTATGCACAGAAAGGCTTCCAAGAGTATCTTAGTATGAGTCATCCTCGGCATATTTTGTTGCATATCAGCCTAGAAGCCAGTACGTCCTTCCCTACATGCGATTCCCGGTATGCTTCTCTCGGTTAGGTAGGCTAGATTCAAGAGTTTATTTCTCTTCTTCGCTTTTAACACCTTATTTAGCGTGTCGGCGCTGAATGGTGGTAGACGCTGAACGTTCTACCGTATATGCTATTTTAACTCCGATTATTGAACCCTCATCTCATTACCCCCTCTCCAGACTTTTAATCAGGCAGCTAATGGGATTACTATCTAAGCTCACCTTTCCACACAGCCCACACACGAGTAAAGCATCGTCTCAGCATAGCTAGGATCTCTGTTACATGACAAAAGCTGATTCTATGCACTCAAAACTGGGCAACAAAGGGAATACGCAAGTTCTATTGGTGGGGAGGAAGAGCGCTAGAAGATTATCACGTAGAGTCGTTTCGATTGCGGATACCAGTTATTAAGCAGTGATAGTCCTGATAGCTCTAACTGATGGACCTAAAGTACTTAAGTGACGTATTGGGGATTTTTCTCGCTGACGATCGATTACACTGAAACCATAGGGATGTGTGGCATACCGGATAATTCCTTCTGGTTTCGCGGTCGTTTGCACAGTTAGGATAGGCCTCAATAGTAGTCAGGAACCGCAGTTGGGAAGTTGTCTCAACTGACTAGTGCATAATTGAAGTGCGTATTAACGTGATAGCGCGTGTGGGTGCGATTGCACGGTGGCGAGAGACTCAATTAAACACTTTACTAAGAACTCTTAACTTTAGATAGCCGATTTTAGGCTCCCCTAGGGTTTGAAATTCACTTCGGGTGTTTGCATGAGTGTGCGGTCAGGAAGCATCAAGTTTGATGAGTCTAGAAGTAGAGGACAATTATCCGCGTGTCAGACCGGTTGGCTCACGCTAACCCCATGTGGCTTGTCAACGGCAAGTACCTGTCACCGGGTCAAGAAATTCTATTTATCCACCTGAAGCGGTGCCATTGTGAGACGTCCGCTACCTCCTATTCCGACAGATTAATTACGCGCGTTTATTTCGGTATAGAACTTCGAGGTATGATACCAAATGAATACGATATAAAAGATGGTGAAGTTTGACGGTACAGCTTATCATACCAATAGACTATTTCATGCTCTCCTTGCACATATCTCCTTAATATGAAAAATATATAATGGATATGGCGAGTTGTACACCTACTTAAATGTACGGATCCTAGAAACCACGCAATTGATGCAACGGTGAAATCTCAAAACGTTAACTTTTTGCTCACCATAAAGAGAGCGAAGTTCAAATATATAGACGACGGAAATACAGATTAAGCAGGACTGCCGTACCTATAGAGACGACCTCATCATTATAAATTTAGATCGGTCTGAAATAAGCCATAATTCGATCTGCACTAGTTATTCTTACTTGATTAAGCGCCCCACATTGCACGATATATTAGAGACAGATGGGATTCACTCCTCCCGGGAACTAGATTTGATACTCGGCGCCGCCCCCATTCCCTTCACGTTGGAGAATGAGCAGCATAGTCAGAGCGAAACTTAGACAAACCATGGTTTATCGCAGTGATTACTCTCTGCCAACAAAGACTTGCCCCTACAATTTAGGGGAAGTGGAATGGTAAAATAGTATGCCTCGATTGGAACTCGTAGTATGGGTAAGAACTCATCTAATATCTATTTGTGATGAATTATGTCCGAGCTAGTTGTGGATTTTTTGAAGTGATGGATTATGTCAAGGTATACTCAGAGTGACAGAAACGACAAACAGATACATAAGTCATAGATATAGACCACTTAGCACGAAATAAAATTATCCAAAATATTTTGCTCCTCACGTTATCCTAATTTATTTAGAATTCAGTATTTAGAATGCAAATTAGAACTTACAATTTGCTATTAGCCGTAGTCTTTTCCCGTGATTTGATGGTCTTCGCTTGTACTCTTGTCGATTCTTAGGAATAAATTGGGATTCGCTGGTTTACTGAATCGAGCTACAATATCAACTTCGACGAGGATAAGGGAGTCTGACATACGTACTGGGTTTCTATTCTGAACTTTGTCTGATCCTTAGCCATGATAGTGATTTGAAAATGGTGTTTCACCGGCTCCTCCTGTCGACCGCAGCAACCAGTGCCATGTTCGAGGTTGATAGTTTTAATCAGCTCTTGAAAGTTTTATGGTTTGCGCCTGCTACTAATCTTTCTCACTGATGCATCGAAGATCGGCACTTGTTTGGGGCTCATTGTTAGGACAGACTTAGACCGCTCTCCACACGGACTATCTGACATCAGTTCCTCCGAGTCTAATGTCCCTTACTCCCCTCACACGAGATGTATGAGTTATTCTTGAGATCTGTCATATTTGTGATAGAGATGGCATGCTCTCAGTGCTTACATCTTTACCATGTTGATAAAAACTTTTGAAGTATAACTCTTAATTAGGGTTCTATTCAGTCTAGTGGGTTTATGGCAATCTTCCGATTCCACAACACGTCACAACGTATCTAGGATGGGATTCCAGCTTCAATCGAGTAATAACGCAATGATTTCAGCAATTCTAAGGGTTGGCTATAAGATTATACTTGGGACTAGTTTGACTGAAACTGATTGATTAGGAAGTATGAATATGCCCTCTACATCTAGGTCTTCTGACAGACTAATTGTAATGTCTGTTTCAGATTAGTTTGTTATGTTTATGATTCGTTTCGTGAATCAGCATTAGTATTCTAGGACTTAATACAACCAGTTCCGTCGAACATTTAATATGTAAGACGTGCTGTGAATCTGGACTAGGTATTAAACTGGGTAGTAAAGTTGACTGAATTCAAAGAATACTGCATAGGAGATTGCACTTGCAATCTGTGTTCCTAAGTGTTACTTGCATGAGGGGTTCATCTTGGGACGTAGCAACAGGTAGTATAGAACTCGCTCTATTGTATTAATCCTACAGCACGGTTCCGCCTACACCGAGTTAAGGTCTAGTACTTAATAAAGTTTCCTAAAATTCAGAACTAAGCTCATACAACAGGCGGATTTCAGTGACACAAAGATCGTCTACTAGCTTCGACGTTTCGCCTCTAAGGATTATATTTTCATTACCGGTTCATGGGACCCTTTTTTCTAATCGCTGTTATGGGGTAGCGGGATTTATACCATTGATTGAAACCTACCTCATCCTATAGCTGGCGAAAGTTTTAAAGTACTTTGTAAACTTTGATATAAAAAGTTCCTATCATATAGAGAAAATGATACCTTGCCTCTTATAGAAAGTGTAGTTATCACAACCTATTAATCTCTTTTCCTTACTAACCCAGTTGTACCGTTACATGTATTATAATTTCAATAGTTGGTCAGCGTTAAATCCCCACCTTTGCCAATGTCGTTTCGAAGTCGCTCCTAGGATAACAGTGAAGTTAAAGGGGTGATAATTCAAATAGGCGCTACTCGTCCGCCCTAGCGGAACCCCTCGCTAAACGTTATCGTTCGCGCTTCATTATCGCTTAACTCATTTCAGCTAAGTTTCGGTAACGATAGAAGGGGTGCCAGGCATGTACACGAGTCGAACATAGCTTATCTTATACGTTGTCGTTGGGCTTCGGCGAATGTTCCCGTCTACTATAACTGGAAATCACCAATCGCAGGTGAATAATACGCGATGCCTGCGACCGGGCACGTAGCGTCAGGGAGGACAACAGTTGAGTCGGCTTGGCCTTACTGAAACTCACTCGTTGATGACTCTCATTGGCTGTCCGCCCCTCTAGATTTGTACTCAGAAGCAGACCAAACCAGACTATATTAATCATTCTCTGCCATACTAGACGTATCACGCCGAGATCTAGTTTTGATAACTTTACCTCAAATCCAACTGCTTAATTCAGTGCACATTGGTAGCTACTCCCGATGTTATTTTAAGTCTTACTCCGTTACGGTCACCGATCTCTTCATTTTAAACCGACCTTCTGAAGTCCGGTGCATACGTTAACGATAGTATTAGCTCACAATAGTTAGGTTTGAATGGATGCTTGTAACGACTACTCGGGCACTCTGGACAATCTTTGTCCACGTCGATCAGATAATTCTATCTTCGTAGAGCGGGAGCGCATCTTACTTCCGCCTTAGTACGATTTAAATGAAATTAGCTCATGGATAACATCTCGCTTATGGCACAATTCCGAGGAACTATACCACCCAGGTCATGTTTACTTAAAGCTGTCCTCTAATTATCTCTTGTAGCGATTATCAGGCTTCAACGTCGAACCTGTCGTTTGTTTATTACTACTACTGATACAAGTGATAGCTAACCGGGAAAGTCCGTCGAAGAGGCTCGTAGCCAGCATCAAGTTTTAGTCCTCCTAGCTAGAGAGCCGAGTATAACAACTTAATACCGGTGTCTTTGCCAGGTGTTCACCCATGACTCGTTACTTTAGAAGGTTTACGTCCTTTCTGTCGGTATGTGGCGCTTAACGTTTTGGCTCCTTTAGTATCGCACTTTTTAAAGCCCTTGCACAAGCGTCTGCTTATTTCTGATTTGCTCCTCGACCCGACTACATTTGACAGTCAAAAATGCATCCGGATGCGTCATCTCGCAGTAGTTATCAGTAATATTATCGCACTGCGTGCAATCAATGTCCACATCTTGAAGCAACTCGAACTCTTCGCGCGGCACTTACATATCATTAGATGAAGTACTAAGAACACCCTACCTAGAAAATCAGGCTGAATTTATGCCAGAAGTTATATTACTCACTGACGTTCACTATGTACACTAAAGCTATGGAAAACTTGGCTTATGTAACAATTGGAGACCTAATATGCTCATTTTGTAACAATGCGTAGACATGTGATTGGGTGTCGTACATAGGGACAGATTGCGCTGTGGTCTACGTGGTCTGCATTGTGGATTCGAATTAATTGATTCTACATTTATTAAAGGAAAAAACGATCCCCAAGAAGTCGTTCGTCGACACGTAGTAAAAAGCTAAGTTAGCTCTTAACATGCCTGCTCAAGACATTCGATTAATCTCGTTGCAACCAATCTTTAGGTTAAATGCCAAGGTCACTAAGTTTTGGCTTAGCAGCAGTTTCGAAGTGGTGGGAGCTACCAAAATATTCATGATTAGTCTATCCGCCGCCAACCTCACCATATAAAAATGGCGGCTGTGAGTGTCGAAAGTTTCAGGAAGGCCACACGCCC\n",
      "----------------------------------------------------------------------------------------------------------------------------------++++++-----------------------------------------------------------------------------------------+++++++++++++++++++++++++++++++----------------------------------------------------------------------------------------------------------------------------------------------------+++-----------------------------------------------------------------------------------++++++++++++++++++++++++++++++++++++++++++++++++++++++++++-------------------------------------------------------------------------------------------------------------------------------------------++---------------------------------------------------------+++++++++++++++++---------------------------------------------------------------------------------------------------------------------------------+++++++++++++++++++-------------------------------------------------------------------------------------------------------------------+++-------------------------------------------------------------------------------------------------------------------------------------------------------------------------------------------------------------------------------------------------------------------------------------------------------------------------------------------------------------------++++++++++++-------------------------------------------------------------------------------------------------------------------------------------------------------------------------------------------------------+++++++++----------------------------------------------------------------------------------------------------------------------------------------------------------------------------------------------------------------------------------------------------------------------------------------------------------------------------------------------------------------------------------------------------------------------------------------------------------------------------------------------------------------------------------------------------------------------------------------------------------------------------++++--------------------------------------------------------------------------------------------+++++++-------------+----------------------------------------------------------------------------------------------------++++++++++++++++++++++----------------------------------------------------------------------+++++++++-------------------------------------------------------------------------------------------------------+++++++++-----------------------------------------------------------------------------------------------------------------------------------------------------------------------------------------------------------------------------------------------------------------------------------------------------------------++--------------------------------------------------------------------------------------------------------------------------------------------++--+++++++++++--+++++++++++++++++++++++++++++++++++++++++++++++++++++++++++----------------------------------------+++++++++++------------------------------------------------------------------------------------------------------------------------------------------------------------------------------------------------------------------------------------------------------------------------------------------------------------------------------------------------------------------------------------------------------------------------------------------------------------------------------------------------------------------------+++++++++++++++++++++++++++++++++++----------------------------------------------------------------------------------------------------------------------------------------------------------------------------------------------------------------------+++++++++---------------------------------------------------------------------------------------------------------------------------------------------------------+++++++++++++++++++-----------------------------------------------------------------------------------------------------------------------------------------------------------------------------------------------------------------------------------------------------------------------------------------------------------------------------------------------------------------------------------------------------------++++-------------------------------------------------------------------------------------------------++--------++++++---------------------------------------------------------------------------------------------------------------------------------------------++++-------------------------------------------------------------------------------------------------------------------------------------------------------------------------------------------------------------------------------------------------------+++++++++++++++++++++++++++++++++-------------------------------------------------------------------++++++++++++++++++-----------------------------------------------------------------------------------------------------------++++++++++++++++++++++++++++++++++++++++++++--------------------------------------------------------------------------------------------------------------------------+-------------------------------------------------------------------------------------------------------------------------------------------++++++++++--------------------------------------------------------------------------------------------------------------------------------------------------------------------------------------------------------------------------------------------------------------------------------------------------------------------------------++++++++++++++++++++++++++++++------------------------------------++++++++++++--------------------------------------------------------------------------------------------------------------------------------------------------------------------------------------------------------------------------------------+++++++++++++----------------------------------------------------------------------------------------------------------------------------------------------------------------------------------------------------------------------------------------------------------------------------------------------------------------------------------------------------------------------------------------------------------------------------------------------------------------------------------------------------------------------------+++++++++++++++++++++++++++--------------------------+++++++++++++++\n"
     ]
    }
   ],
   "source": [
    "mc = MarkovChain('T', '-', p_in=p_in, p_out=p_out)\n",
    "seqs = [[] for _ in range(20)]\n",
    "states = [[] for _ in range(20)]\n",
    "for i in range(20):\n",
    "    for a, state in mc:\n",
    "        seqs[i].append(a)\n",
    "        states[i].append(state)\n",
    "\n",
    "print(''.join(seqs[0]))\n",
    "print(''.join(states[0]))"
   ]
  },
  {
   "cell_type": "markdown",
   "metadata": {},
   "source": [
    "## Задача №3 (4)\n",
    "Напишите алгоритм Витерби для восстановления последовательности скрытых состояний марковской модели из второго задаания. Воспользуйтесь им, воссстановив состояния тех последовательностей, которые вы получили во втором задании и посчитайте TP, TN, FP, FN по количеству правильно или ошибочно предсказанных позиций из CpG остравков. "
   ]
  },
  {
   "cell_type": "code",
   "execution_count": 54,
   "metadata": {},
   "outputs": [],
   "source": [
    "a = [[0.995, 0.005], \n",
    "     [0.05,  0.95 ]] # матрица переходов\n",
    "# 0-state = \"-\"\n",
    "# 1-state = \"+\"\n",
    "\n",
    "def viterbi(obs, p_0, p_1, a):\n",
    "    T1 = [[0, 0] for _ in range(len(obs))]\n",
    "    T2 = [[0, 0] for _ in range(len(obs))]\n",
    "    p = [p_0, p_1]\n",
    "    T1[0][0] = np.log(.2)\n",
    "    T1[0][1] = np.log(.8)\n",
    "    for o in range(1, len(obs)):\n",
    "        for i in range(2):\n",
    "            #T1[o][i] = max(T1[o-1][0]*a[0][i], T1[o-1][1]*a[1][i])*p[i][obs[o]]\n",
    "            #T2[o][i] = np.argmax([T1[o-1][0]*a[0][i], T1[o-1][1]*a[1][i]])\n",
    "            T1[o][i] = max(T1[o-1][0] + np.log(a[0][i]), T1[o-1][1] + np.log(a[1][i])) + np.log(p[i][obs[o]])\n",
    "            T2[o][i] = np.argmax([T1[o-1][0] + np.log(a[0][i]), T1[o-1][1] + np.log(a[1][i])])\n",
    "    z = [0 for _ in range(len(obs))]\n",
    "    z[-1] = np.argmax([T1[-1][0], T1[-1][1]])\n",
    "    for i in reversed(range(1, len(obs))):\n",
    "        z[i-1] = T2[i][z[i]]\n",
    "    return z\n"
   ]
  },
  {
   "cell_type": "code",
   "execution_count": 55,
   "metadata": {},
   "outputs": [],
   "source": [
    "true_states = []\n",
    "pred_states = []\n",
    "for i in range(20):\n",
    "    k = len(seqs[i])//50\n",
    "    for s, state in zip(np.array_split(seqs[i], k), np.array_split(states[i], k)):\n",
    "        true_states += [1 if i == \"+\" else 0 for i in state]\n",
    "        pred_states += viterbi(s, p_out, p_in, a)"
   ]
  },
  {
   "cell_type": "code",
   "execution_count": 56,
   "metadata": {},
   "outputs": [
    {
     "name": "stdout",
     "output_type": "stream",
     "text": [
      "TN=0.8424121258494883, FP=0.06633495282722285, FN=0.050579788758886524, TP=0.040673132564402324\n"
     ]
    }
   ],
   "source": [
    "tn, fp, fn, tp = confusion_matrix(true_states, pred_states, normalize='all').ravel()\n",
    "print('TN={}, FP={}, FN={}, TP={}'.format(tn, fp, fn, tp))"
   ]
  },
  {
   "attachments": {},
   "cell_type": "markdown",
   "metadata": {},
   "source": [
    "Я не уверен, что это нормальный результат. У FN какое-то большое значение. Но вроде все сделал правильно"
   ]
  },
  {
   "cell_type": "markdown",
   "metadata": {},
   "source": [
    "## Задача №4 (4)\n",
    "Напишите алгоритм вперед назад для модели из второго задания. Пользуясь этим алгоритмом найдите вероятности того, что модель находилась в состоянии **+** для каждой позиции строк из второго задания. Устанавливая различные пороговые значения, определите позиции соответствующие CpG островкам и посчитайте TP. Постройте график зависимости TP от выбранного порогового значения. Есть ли пороговые значения при которых TP больше чем в задании №3?"
   ]
  },
  {
   "cell_type": "code",
   "execution_count": 57,
   "metadata": {},
   "outputs": [],
   "source": [
    "def forward_backward(obs, p_0, p_1, a):\n",
    "    f = [[0, 0] for _ in range(len(obs))]\n",
    "    b = [[0, 0] for _ in range(len(obs))]\n",
    "    p = [p_0, p_1]\n",
    "    f[0][0], f[0][1] = 1, 0\n",
    "    b[-1][0], b[-1][1] = a[0][1], a[1][1]\n",
    "    for o in range(len(obs)):\n",
    "        for l in range(2):\n",
    "            if o == 0:\n",
    "                f[o][l] = p[l][obs[o]]*f[o][l]\n",
    "            else:\n",
    "                f[o][l] = p[l][obs[o]] * (f[o-1][0]*a[0][l] + f[o-1][1]*a[1][l])\n",
    "    for o in reversed(range(0, len(obs)-1)):\n",
    "        for k in range(2):\n",
    "            b[o][k] = a[k][0]*p[0][obs[o+1]]*b[o+1][0] + a[k][1]*p[1][obs[o+1]]*b[o+1][1]\n",
    "    pp = p[0][obs[0]]*b[0][0]\n",
    "    res = []\n",
    "    for i in range(len(obs)):\n",
    "        res.append([f[i][0]*b[i][0]/pp, f[i][1]*b[i][1]/pp])\n",
    "    return res"
   ]
  },
  {
   "cell_type": "code",
   "execution_count": 58,
   "metadata": {},
   "outputs": [],
   "source": [
    "true_states = []\n",
    "pred_labels = []\n",
    "\n",
    "\n",
    "for i in range(20):\n",
    "    k = len(seqs[i])//100\n",
    "    for s, state in zip(np.array_split(seqs[i], k), np.array_split(states[i], k)):\n",
    "        true_states += [1 if i == \"+\" else 0 for i in state]\n",
    "        tmp = forward_backward(s, p_out, p_in, a)\n",
    "        pred_labels += tmp"
   ]
  },
  {
   "cell_type": "code",
   "execution_count": 39,
   "metadata": {},
   "outputs": [],
   "source": [
    "tps = []\n",
    "tns = []\n",
    "accs = []\n",
    "x = np.linspace(0, 1, 20)\n",
    "for th in x:\n",
    "    pred_states = [0 if x > th else 1 for x, y in pred_labels]\n",
    "    tn, fp, fn, tp = confusion_matrix(true_states, pred_states, normalize='all').ravel()\n",
    "    acc = accuracy_score(true_states, pred_states)\n",
    "    accs.append(acc)\n",
    "    tps.append(tp)\n",
    "    tns.append(tn)"
   ]
  },
  {
   "attachments": {},
   "cell_type": "markdown",
   "metadata": {},
   "source": [
    "## TP"
   ]
  },
  {
   "cell_type": "code",
   "execution_count": 61,
   "metadata": {},
   "outputs": [
    {
     "data": {
      "text/plain": [
       "[<matplotlib.lines.Line2D at 0x27d1a4c3370>]"
      ]
     },
     "execution_count": 61,
     "metadata": {},
     "output_type": "execute_result"
    },
    {
     "data": {
      "image/png": "[encoded data removed]",
      "text/plain": [
       "<Figure size 640x480 with 1 Axes>"
      ]
     },
     "metadata": {},
     "output_type": "display_data"
    }
   ],
   "source": [
    "plt.plot(x, tps)\n",
    "plt.plot(x, np.ones_like(x)*0.04)\n"
   ]
  },
  {
   "attachments": {},
   "cell_type": "markdown",
   "metadata": {},
   "source": [
    "При пороговом значении больше 0.6 TP у forward_backward больше чем у Витерби"
   ]
  },
  {
   "attachments": {},
   "cell_type": "markdown",
   "metadata": {},
   "source": [
    "## TN"
   ]
  },
  {
   "cell_type": "code",
   "execution_count": 62,
   "metadata": {},
   "outputs": [
    {
     "data": {
      "text/plain": [
       "[<matplotlib.lines.Line2D at 0x27d218d8040>]"
      ]
     },
     "execution_count": 62,
     "metadata": {},
     "output_type": "execute_result"
    },
    {
     "data": {
      "image/png": "[encoded data removed]",
      "text/plain": [
       "<Figure size 640x480 with 1 Axes>"
      ]
     },
     "metadata": {},
     "output_type": "display_data"
    }
   ],
   "source": [
    "plt.plot(x, tns)"
   ]
  },
  {
   "cell_type": "code",
   "execution_count": null,
   "metadata": {},
   "outputs": [],
   "source": []
  }
 ],
 "metadata": {
  "kernelspec": {
   "display_name": "Python 3",
   "language": "python",
   "name": "python3"
  },
  "language_info": {
   "codemirror_mode": {
    "name": "ipython",
    "version": 3
   },
   "file_extension": ".py",
   "mimetype": "text/x-python",
   "name": "python",
   "nbconvert_exporter": "python",
   "pygments_lexer": "ipython3",
   "version": "3.10.9"
  }
 },
 "nbformat": 4,
 "nbformat_minor": 4
}
