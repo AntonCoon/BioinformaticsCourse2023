{
 "cells": [
  {
   "cell_type": "markdown",
   "metadata": {},
   "source": [
    "# Домашнее задание №4\n",
    "\n",
    "Это домашнее задание можно выполнять целиком в этом ноутбуке, либо алгоритмы написать в отдельном файле и импортировать сюда, для использования. В папке data лежат два файла islands.fasta и nonIslands.fasta. В них хранятся прочтения из CpG островков и из обычных участков генома соответственно, этими данными нужно будет воспользоваться в первом задании."
   ]
  },
  {
   "cell_type": "markdown",
   "metadata": {},
   "source": [
    "## Задача №1 (1)\n",
    "Определите частоты генерации для каждого из нуклеотидов внутри CpG островков и вне их. Посчитайте так-же частоты для всех упорядоченных пар нуклеотидов и сравните частоту пары CG внутри островков и снаружи. Сделайте вывод."
   ]
  },
  {
   "cell_type": "code",
   "execution_count": 1,
   "outputs": [],
   "source": [
    "from Bio.SeqUtils import gc_fraction\n",
    "from Bio import SeqIO\n",
    "import numpy as np\n",
    "from collections import defaultdict\n",
    "import random"
   ],
   "metadata": {
    "collapsed": false
   }
  },
  {
   "cell_type": "code",
   "execution_count": 2,
   "outputs": [
    {
     "name": "stdout",
     "output_type": "stream",
     "text": [
      "Частоты для островков\n",
      "Частота A: 0.20246225382932168\n",
      "Частота C: 0.29639660831509845\n",
      "Частота G: 0.29827680525164113\n",
      "Частота T: 0.20286433260393874\n",
      "Матрица пар\n",
      "A \t \t C \t \t G \t \t T\n",
      "A [0.20246225382932168, 0.04586980306345733, 0.07188840262582057, 0.033400984682713346]\n",
      "C [0.04586980306345733, 0.29639660831509845, 0.05895432166301969, 0.07171307439824945]\n",
      "G [0.07188840262582057, 0.05895432166301969, 0.29827680525164113, 0.04663539387308534]\n",
      "T [0.033400984682713346, 0.07171307439824945, 0.04663539387308534, 0.20286433260393874]\n",
      "Частоты вне островков\n",
      "Частота A: 0.28929861153616176\n",
      "Частота C: 0.19613640750872205\n",
      "Частота G: 0.1984481597792771\n",
      "Частота T: 0.3161168211758391\n",
      "Матрица пар\n",
      "A \t \t C \t \t G \t \t T\n",
      "A [0.28929861153616176, 0.04712961349950328, 0.0701906371678916, 0.08209780924983404]\n",
      "C [0.04712961349950328, 0.19613640750872205, 0.005277951721572745, 0.07265776179064282]\n",
      "G [0.0701906371678916, 0.005277951721572745, 0.1984481597792771, 0.05387183193419746]\n",
      "T [0.08209780924983404, 0.07265776179064282, 0.05387183193419746, 0.3161168211758391]\n"
     ]
    }
   ],
   "source": [
    "\n",
    "a_count = 0\n",
    "c_count = 0\n",
    "g_count = 0\n",
    "t_count = 0\n",
    "\n",
    "ag_count = 0\n",
    "at_count = 0\n",
    "ac_count = 0\n",
    "cg_count = 0\n",
    "ct_count = 0\n",
    "gt_count = 0\n",
    "\n",
    "len_of_seq = 0\n",
    "probs_in = defaultdict(dict)\n",
    "for seq_record in SeqIO.parse(\"data/islands.fasta\", \"fasta\"):\n",
    "\n",
    "    seq = str(seq_record.seq)\n",
    "    len_of_seq += len(seq)\n",
    "\n",
    "    a_count += seq.count(\"A\")\n",
    "    c_count  += seq.count(\"C\")\n",
    "    g_count  += seq.count(\"G\")\n",
    "    t_count  += seq.count(\"T\")\n",
    "    ag_count += seq.count(\"AG\")\n",
    "    at_count += seq.count(\"AT\")\n",
    "    ac_count += seq.count(\"AC\")\n",
    "    cg_count += seq.count(\"CG\")\n",
    "    ct_count += seq.count(\"CT\")\n",
    "    gt_count += seq.count(\"GT\")\n",
    "\n",
    "probs_in['A']['A'] = a_count/len_of_seq\n",
    "probs_in['C']['C'] = c_count/len_of_seq\n",
    "probs_in['G']['G'] = g_count/len_of_seq\n",
    "probs_in['T']['T'] = t_count/len_of_seq\n",
    "\n",
    "\n",
    "probs_in['A']['G'] = probs_in['G']['A'] = ag_count/len_of_seq\n",
    "probs_in['A']['C'] = probs_in['C']['A'] = ac_count/len_of_seq\n",
    "probs_in['A']['T'] = probs_in['T']['A'] = at_count/len_of_seq\n",
    "probs_in['C']['T'] = probs_in['T']['C'] = ct_count/len_of_seq\n",
    "probs_in['T']['G'] = probs_in['G']['T'] = gt_count/len_of_seq\n",
    "probs_in['C']['G'] = probs_in['G']['C'] = cg_count/len_of_seq\n",
    "\n",
    "print(\"Частоты для островков\")\n",
    "print(f'Частота A: {a_count/len_of_seq}')\n",
    "print(f'Частота C: {c_count/len_of_seq}')\n",
    "print(f'Частота G: {g_count/len_of_seq}')\n",
    "print(f'Частота T: {t_count/len_of_seq}')\n",
    "\n",
    "print(\"Матрица пар\")\n",
    "\n",
    "print(f'A \\t \\t C \\t \\t G \\t \\t T')\n",
    "\n",
    "for letter1 in ['A', 'C', 'G', 'T']:\n",
    "    line = [probs_in[letter1][letter2] for letter2 in ['A', 'C', 'G', 'T']]\n",
    "    print(f'{letter1} {line}')\n",
    "\n",
    "\n",
    "a_count = 0\n",
    "c_count = 0\n",
    "g_count = 0\n",
    "t_count = 0\n",
    "\n",
    "ag_count = 0\n",
    "at_count = 0\n",
    "ac_count = 0\n",
    "cg_count = 0\n",
    "ct_count = 0\n",
    "gt_count = 0\n",
    "\n",
    "len_of_seq = 0\n",
    "probs_out = defaultdict(dict)\n",
    "for seq_record in SeqIO.parse(\"data/nonIslands.fasta\", \"fasta\"):\n",
    "\n",
    "    seq = str(seq_record.seq)\n",
    "    len_of_seq += len(seq)\n",
    "    a_count += seq.count(\"A\")\n",
    "    c_count  += seq.count(\"C\")\n",
    "    g_count  += seq.count(\"G\")\n",
    "    t_count  += seq.count(\"T\")\n",
    "    ag_count  += seq.count(\"AG\")\n",
    "    at_count += seq.count(\"AT\")\n",
    "    ac_count += seq.count(\"AC\")\n",
    "    cg_count += seq.count(\"CG\")\n",
    "    ct_count += seq.count(\"CT\")\n",
    "    gt_count += seq.count(\"GT\")\n",
    "\n",
    "\n",
    "\n",
    "probs_out['A']['A'] = a_count/len_of_seq\n",
    "probs_out['C']['C'] = c_count/len_of_seq\n",
    "probs_out['G']['G'] = g_count/len_of_seq\n",
    "probs_out['T']['T'] = t_count/len_of_seq\n",
    "\n",
    "\n",
    "probs_out['A']['G'] = probs_out['G']['A'] = ag_count/len_of_seq\n",
    "probs_out['A']['C'] = probs_out['C']['A'] = ac_count/len_of_seq\n",
    "probs_out['A']['T'] = probs_out['T']['A'] = at_count/len_of_seq\n",
    "probs_out['C']['T'] = probs_out['T']['C'] = ct_count/len_of_seq\n",
    "probs_out['T']['G'] = probs_out['G']['T'] = gt_count/len_of_seq\n",
    "probs_out['C']['G'] = probs_out['G']['C'] = cg_count/len_of_seq\n",
    "\n",
    "print(\"Частоты вне островков\")\n",
    "print(f'Частота A: {a_count/len_of_seq}')\n",
    "print(f'Частота C: {c_count/len_of_seq}')\n",
    "print(f'Частота G: {g_count/len_of_seq}')\n",
    "print(f'Частота T: {t_count/len_of_seq}')\n",
    "\n",
    "print(\"Матрица пар\")\n",
    "\n",
    "print(f'A \\t \\t C \\t \\t G \\t \\t T')\n",
    "\n",
    "for letter1 in ['A', 'C', 'G', 'T']:\n",
    "    line = [probs_out[letter1][letter2] for letter2 in ['A', 'C', 'G', 'T']]\n",
    "    print(f'{letter1} {line}')\n"
   ],
   "metadata": {
    "collapsed": false
   }
  },
  {
   "cell_type": "markdown",
   "source": [
    "Как и ожидалось вну вероятность получения CpG островка меньше"
   ],
   "metadata": {
    "collapsed": false
   }
  },
  {
   "cell_type": "markdown",
   "metadata": {},
   "source": [
    "## Задача №2 (2)\n",
    "Напишите марковскую модель, которая имеет открытые состояния {A, T, G, C}, и скрытые состояния {+, -}. Когда модель в состоянии **+**, то вероятность генерации некоторого символа нуклеотида соответствует его частоте внутри CpG островков, вычислиному в первом задании, если состояние **-**, то частоте вне островков. Вероятность остаться внутри островка 0.95, а перейти в обычный геном 0.05. Для остальной части генома соответствующие вероятности 0.995 и 0.005. Саму модель можно реализовать в виде итератора, определив метод next, который возвращает пару - состояние и нуклеотид, который в этом состоянии произведен.    \n",
    "Воспользуйтесь данной моделью для того чтобы сгенерировать набор из 20 последовательностей длинной от 1 000 до 100 000, причем к каждой последовательности должна прилагаться последовательность состояний."
   ]
  },
  {
   "cell_type": "code",
   "execution_count": 19,
   "outputs": [
    {
     "name": "stdout",
     "output_type": "stream",
     "text": [
      "CTACATTTTGGGGGTTTTTTCTTCTCCCCCTTGCCCAAAGGGTGAGGGCATATTCCTTTTGGTTTTTCAAGTATCTTAAATTTGGTCCCAAAAGGGGGGGG\n",
      "---------------------+++++++++++++++++++++++---------------------------------------------------------\n",
      "GGGTTTTTAAAGAACTTTTTTAAAAAAAGCCAACGTGGGTTTTTTTTTAAATTTTCTTAAAGGTATTATTTTTTTTCTTTGGGGTTGAACCCTGAATCCTG\n",
      "------------+++++++++++++++++++++++++-----------------------------------------------------------+++++\n",
      "GGAAAGAAAGAAACCCGGGGGGGGTTTTTTTTGTAAAAACGGATTTAAGAGGAAAAAGTTAAAATTTCCTTTCCTTGAGGGGGGGTTTGGACCCTCCCCTA\n",
      "----------+++++++--+--------++++++++++++++++++++------------+++++++++++++++++++++++++++++++++--------\n",
      "TAAAGAAACCCCCGAGGTCCCGGAGCGCCCGGGGGGTGGGGGTATTTTTTTTTTGGTATTGGGGGAAAAATCCTCAGGGAAAATGAAAAAGAAAAAATCTT\n",
      "----------++++++++++++++++++++++++---------------------------------------++++------------------------\n",
      "GCTGGGTTGGGGGAAACGAAAAAAAGGGTAAACCTGGGGGTTAAAAGGGACTGGGTTAAAGAAAGGGACTAGGGGGGGGGAAAAAAAACCCTTTTTGGTCC\n",
      "--+++++++++++++++++++++++++++++++------------------------++++++++++++++++++++++++++++++++------------\n",
      "TTTCCCCTTGTTTCTTCCCCCCCGGGTGAAGAAGCTCCTTTTGGGGTTTTTGAAAGGCCCCCCCCACCCCCCCAAAAAACGGATTTCCCCGCCGGGGGAAG\n",
      "---------++++++++++++++++++++++++++++++++++---+++++++++++++++++++++++++++++++++++++++++++++++++++++++\n",
      "ATTGGAAAAAATAAAAAATTTATGGGGGGGAAACTTCACCTTTTTTTTCTAAAAATCATTAAGGGGGGTTTTAAATTTTTTTTTTTAGAAAAAGGGTAGCC\n",
      "-----------------++++++++++++++----++++++---------------------------------++++++-------++++++++++++++\n",
      "CCGGGTTTTTAGGTTTCCCCGCCTTTCCGGTTCCATAAAGGGGAAAGGGGTTTGGGTTTAAGGAAATTTAAATTTCCCCCCGAAAGAGGTCCGCCCCCCCC\n",
      "++++++++++++++++++++++++++++++++++---------------------------------------++++++++++++++++++++++++++++\n",
      "CCCCCCACCAACAATTTCTAACCCCCAGGTTTCCTTTGGGGGGCTGGATTTTTTAAAAAAAAATAGATTTTATTTCCCAAAGGGCCCCCCTTTTTTAGGCA\n",
      "-----------------------------+++++++++++++++++----------------------------+++++++++++++++++++++++++++\n",
      "AAAAAAAAGGGGGGTAACCCCAGGAAACCTGGGGGAAATTTGGGTCAAAAAATTTTGGGGGCCCCCCCATTTTTAATTCCAGGGCCTCTTCCCCCTCCAAC\n",
      "---------------------------+++++++--------------++++++++++++++++++++--------------+++++++++++++++++++\n",
      "CCCTTTCCCCTTCTGGGTTTTTTGAAAACCCCTTCCCCAGTAATAACAAATCACTTAACCCCCCCTTTTTTTTTGGGTTCCCTAAACCCACCTTTTTATTT\n",
      "----+++++++++++++++++++++++++++++++--------------------------++++++----------------------------------\n",
      "TTTCCCTTAAAATATTGGTTGGGTCGGGTCCAAGGGGGAGGGAAGGCCCCCCCTTCTTACCCCAAAATTAAGTTTTGGATCCCCGGGGTTTTAGACAAATA\n",
      "--------------------+++++++++++++++++-------++++++------------+-------+++----------------------------\n",
      "GACTTGGGGGGATAACCCCCCAAAGAATTTTAAAGGAACCTTTTTTGGGGCCATTTCCTTTTTTCCCAAAATTTCCAAACCCCACTTTCCGGGGGGGGGGA\n",
      "---------------------------------++++++++++++++++++++++++++++++++++++++++++++++++++++++++++++++------\n",
      "AAAAAAACTAAGAAAAGCCCCGCCCCCCCCCCCGGGGGTCGGGGTTCTTCCCGGGGGAGTTCGTTCAAAAAAAAATCTCAAATCCAAGGTCAAATTTCCTT\n",
      "+++----------++++++++++++++++++++++++++++++++++++++++++++++++++++++++++++++++++++++++++++++++++++++++\n",
      "AAAAGGGTTTTAAAAATTCCCCCCCCCCCCCCCACGGGGGGGCCTATGAAAAAAAAATATGGGGGGCCCCCCTTTTAAAACCCCCCCCCTTCCCTTAGCCC\n",
      "++++++++++++++++++++++++++++++++++++++++++++++----------------+++++++++++++++++++++++++++++++++++++++\n",
      "GGGGGGCCCCAATTTAAAGGGAAAAACCCCCAGGGCCTTTCCTCCCCTTTGGTGTTTTCTAAAAAATGTTAGATTTTCGTCCCCCGGCGCCACTAAAACAG\n",
      "-----++++++++++++++++++++++++++++++++++++++-------------------------------+++++++++++++++++++++++++++\n",
      "CTACTAATAAAAAAAACCCCCCCTTTTTTTTAACCCCCCCCCCTAGGGGTTTTTTTTTCCACTCCCCCAAAAGGCTTTCTGGCTTTGGGGGCCCGGGGGGG\n",
      "-----------------------------------+++----------------++++++++++++++++++++++++++++++++++++++++++++++-\n",
      "GGGGGGGGGGGCCTGGTCCCTTTTTTTCTTTAAAAGGTAACCTTTAGGTGCCCTTTTCATTAAAACTGGAAATTTGGAAAGATTATTGTAAAGGGGATTTT\n",
      "---++++++++++++----------------------++++++++++++++--------------------------------------------------\n",
      "GGGGGCGCCCGTTGGAAAGTCGGGGGGCAAAAATTAGGTTAAGGTAAAGTACATTTTTACACCCCACCCCTTGGGGTTGATTTTTTTCCCCTTGGTCCCCT\n",
      "---++++++++++++++++++++++++----------+++++----++++++++-------------++++++++---+++++++++++++++++++++++\n",
      "CCAAAACAGCCGGGGGAGGAGCGGGAAGGCTTGGGGGAAAAAAATCCCCCGTTTCTACCAGGATTTTTTGGGGGGAAAGGGGGGGACCCTGGGGGTTGGAA\n",
      "+++++++++++++++++--+++++++++++++++++++++++++++++++---------++++++++++++++++++++++++++-------++-------\n"
     ]
    }
   ],
   "source": [
    "def _next(i, x_i, pi_i):\n",
    "    if pi_i == '+':\n",
    "        pi_i = random.choices(population=pi, weights=prob_for_island)\n",
    "\n",
    "        prob = [probs_in[i][x_i] for i in x]\n",
    "        x_i = random.choices(population=x, weights=prob)\n",
    "        sequence_x[i].append(x_i)\n",
    "        sequence_pi[i].append(pi_i)\n",
    "    else:\n",
    "        pi_i = random.choices(population=pi, weights=prob_for_nonIsland)\n",
    "        prob = [probs_out[i][x_i] for i in x]\n",
    "        x_i = random.choices(population=x, weights=prob)\n",
    "        sequence_x[i].append(x_i)\n",
    "        sequence_pi[i].append(pi_i)\n",
    "    return x_i, pi_i\n",
    "\n",
    "\n",
    "x = ['A', 'C', 'G', 'T']\n",
    "pi = ['+', '-']\n",
    "prob_for_island = [0.95, 0.05]\n",
    "prob_for_nonIsland = [0.005, 0.095]\n",
    "\n",
    "number_of_seq = 20\n",
    "len_of_seq = 100\n",
    "sequence_x = [[] for i in range(number_of_seq)]\n",
    "sequence_pi = [[] for i in range(number_of_seq)]\n",
    "\n",
    "\n",
    "for i in range(number_of_seq):\n",
    "    start_x = [random.choice(x)]\n",
    "    start_pi = [random.choice(pi)]\n",
    "    sequence_x[i] = start_x\n",
    "    sequence_pi[i] = start_pi\n",
    "\n",
    "    for j in range(len_of_seq):\n",
    "        start_x, start_pi = _next(i, *start_x, *start_pi)\n",
    "\n",
    "\n",
    "    print(''.join(str(item) for innerlist in sequence_x[i] for item in innerlist), sep='')\n",
    "\n",
    "    print(''.join(str(item) for innerlist in sequence_pi[i] for item in innerlist), sep='')\n"
   ],
   "metadata": {
    "collapsed": false
   }
  },
  {
   "cell_type": "markdown",
   "source": [
    "3 задание я не успела доделать"
   ],
   "metadata": {
    "collapsed": false
   }
  },
  {
   "cell_type": "markdown",
   "metadata": {},
   "source": [
    "## Задача №3 (4)\n",
    "Напишите алгоритм Витерби для восстановления последовательности скрытых состояний марковской модели из второго задавания. Воспользуйтесь им, восстановив состояния тех последовательностей, которые вы получили во втором задании и посчитайте TP, TN, FP, FN по количеству правильно или ошибочно предсказанных позиций из CpG островков."
   ]
  },
  {
   "cell_type": "code",
   "execution_count": 17,
   "outputs": [
    {
     "ename": "KeyError",
     "evalue": "'C'",
     "output_type": "error",
     "traceback": [
      "\u001B[1;31m---------------------------------------------------------------------------\u001B[0m",
      "\u001B[1;31mKeyError\u001B[0m                                  Traceback (most recent call last)",
      "Cell \u001B[1;32mIn[17], line 24\u001B[0m\n\u001B[0;32m     22\u001B[0m prob_for_island \u001B[38;5;241m=\u001B[39m [\u001B[38;5;241m0.95\u001B[39m, \u001B[38;5;241m0.05\u001B[39m]\n\u001B[0;32m     23\u001B[0m prob_for_nonIsland \u001B[38;5;241m=\u001B[39m [\u001B[38;5;241m0.005\u001B[39m, \u001B[38;5;241m0.095\u001B[39m]\n\u001B[1;32m---> 24\u001B[0m \u001B[38;5;28mprint\u001B[39m(\u001B[43mviterby\u001B[49m\u001B[43m(\u001B[49m\u001B[43mx\u001B[49m\u001B[43m,\u001B[49m\u001B[43m \u001B[49m\u001B[43mpi\u001B[49m\u001B[43m,\u001B[49m\u001B[43m \u001B[49m\u001B[43mprob_for_island\u001B[49m\u001B[43m,\u001B[49m\u001B[43m \u001B[49m\u001B[43mprobs_in\u001B[49m\u001B[43m,\u001B[49m\u001B[43m \u001B[49m\u001B[43mprobs_out\u001B[49m\u001B[43m)\u001B[49m)\n",
      "Cell \u001B[1;32mIn[17], line 5\u001B[0m, in \u001B[0;36mviterby\u001B[1;34m(x, pi, probs, probs_in, probs_out)\u001B[0m\n\u001B[0;32m      3\u001B[0m P \u001B[38;5;241m=\u001B[39m [[\u001B[38;5;241m0\u001B[39m \u001B[38;5;28;01mfor\u001B[39;00m i \u001B[38;5;129;01min\u001B[39;00m \u001B[38;5;28mrange\u001B[39m(\u001B[38;5;28mlen\u001B[39m(pi))] \u001B[38;5;28;01mfor\u001B[39;00m j \u001B[38;5;129;01min\u001B[39;00m \u001B[38;5;28mrange\u001B[39m(\u001B[38;5;28mlen\u001B[39m(x))]\n\u001B[0;32m      4\u001B[0m \u001B[38;5;28;01mfor\u001B[39;00m pi_i \u001B[38;5;129;01min\u001B[39;00m \u001B[38;5;28mrange\u001B[39m(\u001B[38;5;28mlen\u001B[39m(pi)):\n\u001B[1;32m----> 5\u001B[0m     T[pi_i][\u001B[38;5;241m0\u001B[39m] \u001B[38;5;241m=\u001B[39m probs[pi_i]\u001B[38;5;241m*\u001B[39m\u001B[43mprobs_out\u001B[49m\u001B[43m[\u001B[49m\u001B[43mpi_i\u001B[49m\u001B[43m]\u001B[49m\u001B[43m[\u001B[49m\u001B[43mx\u001B[49m\u001B[43m[\u001B[49m\u001B[38;5;241;43m0\u001B[39;49m\u001B[43m]\u001B[49m\u001B[43m]\u001B[49m\n\u001B[0;32m      7\u001B[0m \u001B[38;5;28;01mfor\u001B[39;00m x_i \u001B[38;5;129;01min\u001B[39;00m \u001B[38;5;28mrange\u001B[39m(\u001B[38;5;241m1\u001B[39m, \u001B[38;5;28mlen\u001B[39m(x)):\n\u001B[0;32m      8\u001B[0m     \u001B[38;5;28;01mfor\u001B[39;00m pi_i \u001B[38;5;129;01min\u001B[39;00m \u001B[38;5;28mrange\u001B[39m(\u001B[38;5;28mlen\u001B[39m(pi)):\n",
      "\u001B[1;31mKeyError\u001B[0m: 'C'"
     ]
    }
   ],
   "source": [
    "def viterby(x, pi, probs, probs_in, probs_out):\n",
    "    T=[[0 for i in range(len(pi))] for j in range(len(x))]\n",
    "    P = [[0 for i in range(len(pi))] for j in range(len(x))]\n",
    "    for pi_i in range(len(pi)):\n",
    "        T[pi_i][0] = probs[pi_i]*probs_out[pi_i][x[0]]\n",
    "\n",
    "    for x_i in range(1, len(x)):\n",
    "        for pi_i in range(len(pi)):\n",
    "            k = np.argmax([(T[k][x_i-1] * probs_in[k][pi_i] * probs_out[pi_i][x_i]) for k in range(len(pi))])\n",
    "            T[pi_i][x_i] = T[pi_i][x_i-1] * probs_in[k][pi_i]* probs_out[pi_i][x_i]\n",
    "            P[pi_i][x_i] = k\n",
    "    best_path = []\n",
    "    k = np.argmax([T[k][len(x)-1] for k in range(len(pi))])\n",
    "    for x_i in range(len(x) -1, -1, -1):\n",
    "        best_path.insert(0, pi[k])\n",
    "        k = P[k][x_i]\n",
    "    return best_path\n",
    "\n",
    "x = \"CAACAAATTTT\"\n",
    "\n",
    "pi = ['+', '-']\n",
    "prob_for_island = [0.95, 0.05]\n",
    "prob_for_nonIsland = [0.005, 0.095]\n",
    "print(viterby(x, pi, prob_for_island, probs_in, probs_out))\n",
    "\n",
    "\n",
    "\n"
   ],
   "metadata": {
    "collapsed": false
   }
  },
  {
   "cell_type": "markdown",
   "metadata": {},
   "source": [
    "## Задача №4 (4)\n",
    "Напишите алгоритм вперед назад для модели из второго задания. Пользуясь этим алгоритмом найдите вероятности того, что модель находилась в состоянии **+** для каждой позиции строк из второго задания. Устанавливая различные пороговые значения, определите позиции соответствующие CpG островкам и посчитайте TP. Постройте график зависимости TP от выбранного порогового значения. Есть ли пороговые значения при которых TP больше чем в задании №3?"
   ]
  },
  {
   "cell_type": "code",
   "execution_count": null,
   "outputs": [],
   "source": [],
   "metadata": {
    "collapsed": false
   }
  }
 ],
 "metadata": {
  "kernelspec": {
   "display_name": "Python 3",
   "language": "python",
   "name": "python3"
  },
  "language_info": {
   "codemirror_mode": {
    "name": "ipython",
    "version": 3
   },
   "file_extension": ".py",
   "mimetype": "text/x-python",
   "name": "python",
   "nbconvert_exporter": "python",
   "pygments_lexer": "ipython3",
   "version": "3.8.6"
  }
 },
 "nbformat": 4,
 "nbformat_minor": 4
}
