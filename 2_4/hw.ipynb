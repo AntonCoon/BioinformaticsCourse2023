{
 "cells": [
  {
   "attachments": {},
   "cell_type": "markdown",
   "metadata": {},
   "source": [
    "# Практическая часть"
   ]
  },
  {
   "cell_type": "code",
   "execution_count": 5,
   "metadata": {},
   "outputs": [],
   "source": [
    "from Bio import Phylo\n",
    "from Bio.Phylo.Newick import Clade\n",
    "from io import StringIO\n",
    "from PrettyPrint import PrettyPrintTree # pip install PrettyPrintTree\n",
    "import numpy as np"
   ]
  },
  {
   "cell_type": "code",
   "execution_count": 15,
   "metadata": {},
   "outputs": [],
   "source": [
    "class Tree:\n",
    "    def __init__(self, value):\n",
    "        self.val = value\n",
    "        self.children = []\n",
    "\n",
    "    def add_child(self, child):\n",
    "        self.children.append(child)\n",
    "        return child\n",
    "    \n",
    "    def print(self):\n",
    "        pt = PrettyPrintTree(lambda x: x.children, \n",
    "                             lambda x: x.val, \n",
    "                             default_orientation=PrettyPrintTree.HORIZONTAL)\n",
    "        pt(self)\n",
    "\n",
    "    \n",
    "def build_tree(root: Clade):\n",
    "    if root.name is not None:\n",
    "        return root.name, Tree(root.name)\n",
    "    letters = set()\n",
    "    tmp = Tree(None)\n",
    "    for clade in root.clades:\n",
    "        let, tree = build_tree(clade)\n",
    "        tmp.add_child(tree)\n",
    "        if not letters.intersection(let):\n",
    "            letters = letters.union(let)\n",
    "        else:\n",
    "            letters = letters.intersection(let)\n",
    "    tmp.val = letters\n",
    "    return letters, tmp\n",
    "\n",
    "def choose(root: Tree, parent_val=None):\n",
    "    if type(root.val) == set:\n",
    "        if parent_val is None:\n",
    "            root.val = np.random.choice(list(root.val))\n",
    "        else:\n",
    "            if parent_val in root.val:\n",
    "                root.val = parent_val\n",
    "            else:\n",
    "                root.val = np.random.choice(list(root.val))\n",
    "    for i in range(len(root.children)):\n",
    "        root.children[i] = choose(root.children[i], root.val)\n",
    "    return root\n"
   ]
  },
  {
   "cell_type": "code",
   "execution_count": 25,
   "metadata": {},
   "outputs": [],
   "source": [
    "treedata = \"(((A, A), C), (C, G))\"\n",
    "tree = Phylo.read(StringIO(treedata), \"newick\")"
   ]
  },
  {
   "attachments": {},
   "cell_type": "markdown",
   "metadata": {},
   "source": [
    "Находим какие могут быть вершины"
   ]
  },
  {
   "cell_type": "code",
   "execution_count": 26,
   "metadata": {},
   "outputs": [
    {
     "name": "stdout",
     "output_type": "stream",
     "text": [
      "                             ┌\u001b[100m A \u001b[0m\n",
      "                     ┌\u001b[100m {'A'} \u001b[0m┤\n",
      "        ┌\u001b[100m {'A', 'C'} \u001b[0m┤       └\u001b[100m A \u001b[0m\n",
      "        │            │\n",
      "-\u001b[100m {'C'} \u001b[0m┤            └\u001b[100m C \u001b[0m\n",
      "        │\n",
      "        │            ┌\u001b[100m C \u001b[0m\n",
      "        └\u001b[100m {'C', 'G'} \u001b[0m┤\n",
      "                     └\u001b[100m G \u001b[0m\n"
     ]
    }
   ],
   "source": [
    "tree_obj = build_tree(tree.root)[1]\n",
    "tree_obj.print()"
   ]
  },
  {
   "attachments": {},
   "cell_type": "markdown",
   "metadata": {},
   "source": [
    "Выбираем вершины в соответствии с принципом максимальной парсимонии"
   ]
  },
  {
   "cell_type": "code",
   "execution_count": 27,
   "metadata": {},
   "outputs": [
    {
     "name": "stdout",
     "output_type": "stream",
     "text": [
      "            ┌\u001b[100m A \u001b[0m\n",
      "        ┌\u001b[100m A \u001b[0m┤\n",
      "    ┌\u001b[100m C \u001b[0m┤   └\u001b[100m A \u001b[0m\n",
      "    │   │\n",
      "-\u001b[100m C \u001b[0m┤   └\u001b[100m C \u001b[0m\n",
      "    │\n",
      "    │   ┌\u001b[100m C \u001b[0m\n",
      "    └\u001b[100m C \u001b[0m┤\n",
      "        └\u001b[100m G \u001b[0m\n"
     ]
    }
   ],
   "source": [
    "choose(tree_obj).print()"
   ]
  },
  {
   "attachments": {},
   "cell_type": "markdown",
   "metadata": {},
   "source": [
    "Пример из видео про алгоритм"
   ]
  },
  {
   "cell_type": "code",
   "execution_count": 31,
   "metadata": {},
   "outputs": [
    {
     "name": "stdout",
     "output_type": "stream",
     "text": [
      "    ┌\u001b[100m A \u001b[0m\n",
      "    │\n",
      "    │       ┌\u001b[100m A \u001b[0m\n",
      "    │       │\n",
      "    │   ┌\u001b[100m T \u001b[0m┤   ┌\u001b[100m G \u001b[0m\n",
      "-\u001b[100m A \u001b[0m┤   │   └\u001b[100m T \u001b[0m┤\n",
      "    └\u001b[100m T \u001b[0m┤       └\u001b[100m T \u001b[0m\n",
      "        │\n",
      "        │   ┌\u001b[100m C \u001b[0m\n",
      "        └\u001b[100m T \u001b[0m┤\n",
      "            └\u001b[100m T \u001b[0m\n"
     ]
    }
   ],
   "source": [
    "treedata = \"(A, ((A, (G, T)), (C, T)))\"\n",
    "\n",
    "choose(build_tree(Phylo.read(StringIO(treedata), \"newick\").root)[1]).print()"
   ]
  },
  {
   "attachments": {},
   "cell_type": "markdown",
   "metadata": {},
   "source": [
    "# Теоретическая часть"
   ]
  },
  {
   "attachments": {},
   "cell_type": "markdown",
   "metadata": {},
   "source": [
    "### Укорененные деревья"
   ]
  },
  {
   "attachments": {},
   "cell_type": "markdown",
   "metadata": {},
   "source": [
    "Мы рассматриваем бинарные деревья"
   ]
  },
  {
   "attachments": {},
   "cell_type": "markdown",
   "metadata": {},
   "source": [
    "В левого ребенка мы можем поместить $i = 1...n-1$ листьев, а в правого $n - i$ листьев. Тк нам не важен порядок листьев, то всего способов разместить n листьев по двум детям равно:\n",
    "\n",
    "$$\n",
    "\\frac{1}{2} \\sum_{i=1}^{n-1} \\binom{n}{i}\n",
    "$$\n",
    "\n",
    "i - число листьев в левом ребенке. И 1/2 тк не важен порядок листьев.\n",
    "\n",
    "Тогда T(n) получим рекурсивно:\n",
    "\n",
    "$$\n",
    "T(n) = \\frac{1}{2} \\sum_{i=1}^{n-1} \\binom{n}{i} T(i) T(n-i)\n",
    "$$"
   ]
  },
  {
   "cell_type": "code",
   "execution_count": 38,
   "metadata": {},
   "outputs": [],
   "source": [
    "from scipy.special import binom"
   ]
  },
  {
   "cell_type": "code",
   "execution_count": 67,
   "metadata": {},
   "outputs": [
    {
     "data": {
      "text/plain": [
       "15.0"
      ]
     },
     "execution_count": 67,
     "metadata": {},
     "output_type": "execute_result"
    }
   ],
   "source": [
    "def calc_T(n):\n",
    "    if n == 1:\n",
    "        return 1\n",
    "    return sum(0.5*binom(n, i)*calc_T(i)*calc_T(n-i) for i in range(1, n))\n",
    "\n",
    "calc_T(4)"
   ]
  },
  {
   "attachments": {},
   "cell_type": "markdown",
   "metadata": {},
   "source": [
    "### Неукорененные деревья"
   ]
  },
  {
   "attachments": {},
   "cell_type": "markdown",
   "metadata": {},
   "source": [
    "Просто выкинем корневую вершину, а ее левого и правого ребенка соединим ребром. Тогда число таких деревьев размера n будет T(n-1)"
   ]
  }
 ],
 "metadata": {
  "kernelspec": {
   "display_name": "base",
   "language": "python",
   "name": "python3"
  },
  "language_info": {
   "codemirror_mode": {
    "name": "ipython",
    "version": 3
   },
   "file_extension": ".py",
   "mimetype": "text/x-python",
   "name": "python",
   "nbconvert_exporter": "python",
   "pygments_lexer": "ipython3",
   "version": "3.10.9"
  },
  "orig_nbformat": 4
 },
 "nbformat": 4,
 "nbformat_minor": 2
}
