{
 "cells": [
  {
   "attachments": {},
   "cell_type": "markdown",
   "metadata": {},
   "source": [
    "# Олег Дмитриев \n",
    "\n",
    "rosalind profile [link](https://rosalind.info/users/qilowoq/)"
   ]
  },
  {
   "cell_type": "code",
   "execution_count": 1,
   "metadata": {},
   "outputs": [],
   "source": [
    "import numpy as np\n",
    "from functools import reduce"
   ]
  },
  {
   "attachments": {},
   "cell_type": "markdown",
   "metadata": {},
   "source": [
    "## Без темы\n",
    "\n",
    "### [Find a Longest Common Subsequence of Two Strings](https://rosalind.info/problems/ba5c/)\n"
   ]
  },
  {
   "cell_type": "code",
   "execution_count": 1,
   "metadata": {},
   "outputs": [
    {
     "data": {
      "text/plain": [
       "'ACTAGTAGGGTGGTTGTGTGAGCGTTAGGGTGCTTGGACAATCAATCACTTTGAAGTAGACCCTCGGATTCCCGGGTTTCGCGGCTCCTGTCTTTCACAGACCAGAAGCCTTCATCGCTAGGCTCAGGGAGTATAGACATTAATCCGATCGTAATTGGCGGGGGAGCGATTGAGTGGGGTTACTCGCTTTCAAAATCTTGGTCTGTGTACCCCTTCCTGAGTAAATGCCAAGCCCCGTGCGGAGGCTCGAGTGTAGCACCTGTGGCCCCCTAGAAGCACACCCATGGGAAGTGTCGTCGAGCAGGACGTTCTGGTGGTACCCGCAGCTCCCCAAAGTCCATGAACCCACACCCCGCCTTGGTGATCAAACCGATCAGACGCGGTGGCAGGCGCCTGCATCAAGAACAATTTCGTCCTCGCCCTGACTTACAGGGGGTTGGCAGATGACTTTCTCCCTAGCCCGTGTGAAATTGTTTTGGTCCCACAATTAGTACGCACGCGGGGTCTGGGTTGGTTCTGGCCGTTTGTTGATGTAACCTCAGGGCCTAAAATGAGC'"
      ]
     },
     "execution_count": 1,
     "metadata": {},
     "output_type": "execute_result"
    }
   ],
   "source": [
    "def lcs(seq1, seq2): \n",
    "    m = len(seq1)\n",
    "    n = len(seq2)    \n",
    "    dp = [[0]*(n+1) for i in range(m+1)]\n",
    "    for i in range(m+1):\n",
    "        for j in range(n+1):\n",
    "            if i == 0 or j == 0 :\n",
    "                dp[i][j] = 0\n",
    "            elif seq1[i-1] == seq2[j-1]:\n",
    "                dp[i][j] = dp[i-1][j-1]+1\n",
    "            else:\n",
    "                dp[i][j] = max(dp[i-1][j] , dp[i][j-1])\n",
    "    res = \"\"\n",
    "    i = m\n",
    "    j = n\n",
    "    while i > 0 and j > 0:\n",
    "        if seq1[i - 1] == seq2[j - 1]:\n",
    "            res = seq1[i - 1] + res\n",
    "            i -= 1\n",
    "            j -= 1\n",
    "        elif dp[i - 1][j] > dp[i][j - 1]:\n",
    "            i -= 1\n",
    "        else:\n",
    "            j -= 1\n",
    "\n",
    "    return res\n",
    " \n",
    "seq1 = 'AAGCGTGAGCGTACGGCCCGAGTGCGTACTCGTTGCTGACGTCTTTTTGTGTAGGAGTGCTGATCGTGATCAGATACATTGCGAAATCACTCTATGGAAGTAGACCCATCGGATTCGCCGGGTTTCGCGGCCTCCATGTCTTTTCATCCCTAGACCGAAGACACGCCCTTCGAATCGCGTGGAGGCTCGGTAAGGTGGAGTTGTGAGTAGACATTAGCACTCCGATCAGTACAATATCGGGCGGAGGGAATGTTCTGTATTGAGTGGGGTTACATCGCGGCTTCTGAAACAATAATTCAAGTTGTTCCGTCTCGTGCTACCCGCGTTCCTGTATGCTTAAATCGCCAAGCACCCGGTCCGCGACCCCCGCCTAGGCACTCGATATGTGTAGCATCAACGTAGTAGGCCCATTCCTACAGAAAGTCAACACCCATGGGAAGATGGTCGTCCTGAGGCAGTGACTGTTGCTAAGGTGCGTACCCTGCCACGCATCCTCCCAAATGTCGCATGAATTTCACCACACCACCGGGCCGAATGTCGCCGTGATCAGAACCCGATGCAGACGCTACGGTGGCAGGCGCACGATGACTATCCAACGCAACAATCCTTGGGCGTCCTCGAACCGAAGCGCTAAGACTTAAGCGAGGTCGGAGAAAAGTTGCGCATGCCATCCGACTTTCATCCACTAGAGTCCCGGTAAGTGTAATATTGTAAAGTTTGGGTCCCATCGAATTAGTACGCACTGCGGGGCTTCTGGGTTATTGGTTCTGGCGGTCAGTTTGTTGATCGTGAACTCTCAGGGCCTAAAATGAGC'\n",
    "seq2 = 'ACTATTGTAGGGTGGTTGATGTAGAGCAAAGAATAATCCAAATGGGGTGCTTGGACAATCAACTCACAGGGTTCTGAAGGGACTAGTTACCCTAGCGGGGAGTATCAATACCATGTTTTTTGGTTCCTTCCAGCTAGGCATACGCCTGATCGTCTTCACAGGAACCAGTGAGAGCTCTCTCATCTAGACTATTGAGCTCAGCGGACGCTATATTGCGCACGATGATAATCCAACTGATCCCGTAATTGGCTGGCGTGGGAGCGACCTCTCGATGCGTCTTGTGGGCTTGACTCGCTTTCCAAAATCCCTTGGGTAGGGGCTGATTGTATCCTCCACTGGTGCCTGAGAATGAATATGCTAGCTATAAGCCCCGTGCGGAGGCTTACGAGTGATAGGGCACTTCTGTGGAACGCGCCCTATGATAGCCCGACACCTTCCCTCACGTCTGGATGCGAAGTTGCTCATGTCGACGTCACCGAGCCACGTTTTCTGGTAAAGGATATACAATACCGCAGCTCCACCACGGCAAGGCTCCCCAAGTGCAAGCTCCGTGACATACTTCTTCCGTCCTTGGACTGAACTGCAAGACTTAACGACTCCTAGACGCGGCTGGTTACCAGGACAGGCCCTTGCATACAGAGACGACCATTATTTCGTTTACCTCGCCCTTGACGGTCTACCCCCCCCCAGGGGGTTTGAGTCAGTAGTGTACATTTCTCCCTAGCCCGTGTGACACGACGGTTCGCCTTTACCTGCGACTCCCACACCCGCGGATGGTAGTAACAGTGGCCAGCAAGCTGGGAGATCCGGTGCCGGGTGTGTGTCGTCCATTGTAAGCCCGTTTGGGTTGATGCCCTAACCATCACAAGACATGTGTCCGAGGTGGGGGAAGAAGATAGAGGAATGGTGGGATAAGAATACGGT'\n",
    "\n",
    "lcs(seq1, seq2)"
   ]
  },
  {
   "attachments": {},
   "cell_type": "markdown",
   "metadata": {},
   "source": [
    "## HMM"
   ]
  },
  {
   "attachments": {},
   "cell_type": "markdown",
   "metadata": {},
   "source": [
    "### [Compute the Probability of a Hidden Path](https://rosalind.info/problems/ba10a/)"
   ]
  },
  {
   "cell_type": "code",
   "execution_count": 9,
   "metadata": {},
   "outputs": [
    {
     "data": {
      "text/plain": [
       "1.2962714227998166e-15"
      ]
     },
     "execution_count": 9,
     "metadata": {},
     "output_type": "execute_result"
    }
   ],
   "source": [
    "def calc_prob(states, matr):\n",
    "    prob = np.log(0.5)\n",
    "    for i in range(len(states) - 1):\n",
    "        prob += np.log(matr[states[i], states[i+1]])\n",
    "    return np.exp(prob)\n",
    "\n",
    "path = \"BAABAAABABABBBABBAAAAABAABABBBABABBABBAAABBAABABBA\"\n",
    "states = {'A': 0, 'B': 1}\n",
    "trans_matrix = np.array([\n",
    "    [0.478,\t0.522],\n",
    "\t[0.525,\t0.475]\n",
    "])\n",
    "\n",
    "\n",
    "calc_prob([states[i] for i in path], trans_matrix)"
   ]
  },
  {
   "attachments": {},
   "cell_type": "markdown",
   "metadata": {},
   "source": [
    "### [Compute the Probability of an Outcome Given a Hidden Path](https://rosalind.info/problems/ba10b/)"
   ]
  },
  {
   "cell_type": "code",
   "execution_count": 11,
   "metadata": {},
   "outputs": [
    {
     "data": {
      "text/plain": [
       "4.0100566857028377e-35"
      ]
     },
     "execution_count": 11,
     "metadata": {},
     "output_type": "execute_result"
    }
   ],
   "source": [
    "def calc_prob(x, path, matr):\n",
    "    prob = 0\n",
    "    for i in range(len(x)):\n",
    "        prob += np.log(matr[path[i], x[i]])\n",
    "    return np.exp(prob)\n",
    "\n",
    "x = \"xyyyxxxzzzyzxzxzxxyzyyyxxzzyyxzyzyzyxzyyyxzxyxzyyz\"\n",
    "sigma = {'x': 0, 'y': 1, 'z': 2}\n",
    "\n",
    "path = \"BABBBABBBAABAAAAAABBBABAAAAAABBABBBAABABAAAAAAABBB\"\n",
    "states = {'A': 0, 'B': 1}\n",
    "\n",
    "trans_matrix = np.array([\n",
    "    [0.847,\t0.114,\t0.038],\n",
    "\t[0.233,\t0.696,\t0.072]\n",
    "])\n",
    "\n",
    "\n",
    "calc_prob([sigma[i] for i in x], [states[i] for i in path], trans_matrix)"
   ]
  },
  {
   "attachments": {},
   "cell_type": "markdown",
   "metadata": {},
   "source": [
    "### [Implement the Viterbi Algorithm](https://rosalind.info/problems/ba10c/)"
   ]
  },
  {
   "cell_type": "code",
   "execution_count": 28,
   "metadata": {},
   "outputs": [
    {
     "data": {
      "text/plain": [
       "'CCBACCCCCCCCCCCCCCCCCCCCCBBACBABBACCCCCCCCCCCCCBACCCCCCCCCCCCBACCCCCCBACCCCCCCCCCCCCBBACCCCCCBACCCBB'"
      ]
     },
     "execution_count": 28,
     "metadata": {},
     "output_type": "execute_result"
    }
   ],
   "source": [
    "def viterbi(y, A, B):\n",
    "    K = A.shape[0]\n",
    "    T = len(y)\n",
    "    T1 = np.empty((K, T), 'd')\n",
    "    T2 = np.empty((K, T), 'B')\n",
    "    T1[:, 0] = B[:, y[0]]\n",
    "    T2[:, 0] = 0\n",
    "    for i in range(1, T):\n",
    "        T1[:, i] = np.max(T1[:, i - 1] + np.log(A.T * B[np.newaxis, :, y[i]].T), axis=1)\n",
    "        T2[:, i] = np.argmax(T1[:, i - 1] + np.log( A.T), axis=1)\n",
    "    x = np.empty(T, 'B')\n",
    "    x[-1] = np.argmax(T1[:, T - 1])\n",
    "    for i in reversed(range(1, T)):\n",
    "        x[i - 1] = T2[x[i], i]\n",
    "    return x\n",
    "\n",
    "x = 'zyxxzxzxzyyxzyxzyyyxzzyyyxxyyxyxxyzyzzzzzyzyzyzxyyzzyzyyyxzzyxyzxzyzzxyzzzzyzxzzxzyyxxyyxzzzzxyxzyxx'\n",
    "sigma = {'x': 0, 'y': 1, 'z': 2}\n",
    "states = {0: 'A', 1: 'B', 2: 'C', 3: 'D'}\n",
    "A = np.array([\n",
    "    [0.281,\t0.318,\t0.4],\t\n",
    "\t[0.427,\t0.36,\t0.213],\n",
    "\t[0.167,\t0.321,\t0.512]\t\n",
    "    ])\n",
    "\n",
    "B = np.array([\n",
    "    [0.393,\t0.448,\t0.158],\t\n",
    "\t[0.554,\t0.303,\t0.143],\t\n",
    "\t[0.236,\t0.377,\t0.386]\n",
    "    ])\n",
    "y = [sigma[i] for i in x]\n",
    "\n",
    "''.join(states[i] for i in viterbi(y, A, B))\n"
   ]
  },
  {
   "attachments": {},
   "cell_type": "markdown",
   "metadata": {},
   "source": [
    "# Motives"
   ]
  },
  {
   "attachments": {},
   "cell_type": "markdown",
   "metadata": {},
   "source": [
    "### [Implement GreedyMotifSearch](https://rosalind.info/problems/ba2d/)"
   ]
  },
  {
   "cell_type": "code",
   "execution_count": 78,
   "metadata": {},
   "outputs": [
    {
     "name": "stdout",
     "output_type": "stream",
     "text": [
      "CCGGAGCGGATT\n",
      "TCGAGCTATCAA\n",
      "GCCCCAGTCATC\n",
      "TCGGGCCGTCTT\n",
      "ATGTCGACTGTC\n",
      "TCGCAGGATATT\n",
      "TCGAGCAGGATA\n",
      "TCGTCGGTGATT\n",
      "TCCTGAGTTATC\n",
      "TTGCGCGAATGT\n",
      "TTGTCAGTCCTT\n",
      "TTGCCCGGGATT\n",
      "TCCCCGGTGATT\n",
      "TCGAGGGTGATT\n",
      "GTGAGGGCGATT\n",
      "CTGCGGGGGATT\n",
      "TCGTGGGTCAAT\n",
      "TCGAGCATGGTA\n",
      "GCCACGGCTAAA\n",
      "TCGCGAATCAAT\n",
      "TTGCCGGGCCAT\n",
      "TCCAGCGAAATT\n",
      "CCGGAAGAGATT\n",
      "TCGAACCTTATA\n",
      "TCGTCGGTTAGA\n"
     ]
    }
   ],
   "source": [
    "def form_profile(motifs, k):\n",
    "    profile = dict()\n",
    "    for letter in ['A', 'C', 'G', 'T']:\n",
    "        profile[letter] = [0]*k\n",
    "    for motif in motifs:\n",
    "        for i, letter in enumerate(motif):\n",
    "            profile[letter][i] += 1\n",
    "    return profile\n",
    "\n",
    "def profile_most_probable_kmer(seq, k, profile):\n",
    "    max_prob = - float('inf')\n",
    "    res = ''\n",
    "    for kmer in [seq[i:i+k] for i in range(len(seq) - k + 1)]:\n",
    "        prob = reduce(lambda x, y: x*y, [profile[nuc][j] for j, nuc in enumerate(kmer)])\n",
    "        if prob > max_prob:\n",
    "            max_prob = prob\n",
    "            res = kmer\n",
    "    return res\n",
    "\n",
    "def score(motifs, k):\n",
    "    profile = form_profile(motifs, k)\n",
    "    alp = ['A', 'C', 'G', 'T']\n",
    "    consensus = [alp[np.argmax([profile[nuc][i] for nuc in alp])] for i in range(k)]\n",
    "    score = sum([sum(motif[i] != consensus[i] for i in range(k)) for motif in motifs])\n",
    "    return score\n",
    "\n",
    "def GreedyMotifSearch(dna, k, t):\n",
    "    best_motifs = [string[:k] for string in dna]\n",
    "    for motif in [dna[0][i:i+k] for i in range(len(dna[0]) - k + 1)]:\n",
    "        motifs = []\n",
    "        motifs.append(motif)\n",
    "        for i in range(1, min(t, len(dna))): \n",
    "            profile = form_profile(motifs, k)\n",
    "            motifs.append(profile_most_probable_kmer(dna[i], k, profile))\n",
    "        if score(motifs, k) < score(best_motifs, k):\n",
    "            best_motifs = motifs\n",
    "    return best_motifs\n",
    "\n",
    "\n",
    "with open('rosalind_ba2d.txt', 'r') as file:\n",
    "    lines = [line.strip() for line in file.readlines()]\n",
    "\n",
    "k, t = map(int, lines[0].split())\n",
    "seqs = lines[1:]\n",
    "for res in GreedyMotifSearch(seqs, k, t):\n",
    "    print(res)"
   ]
  }
 ],
 "metadata": {
  "kernelspec": {
   "display_name": "base",
   "language": "python",
   "name": "python3"
  },
  "language_info": {
   "codemirror_mode": {
    "name": "ipython",
    "version": 3
   },
   "file_extension": ".py",
   "mimetype": "text/x-python",
   "name": "python",
   "nbconvert_exporter": "python",
   "pygments_lexer": "ipython3",
   "version": "3.10.9"
  },
  "orig_nbformat": 4
 },
 "nbformat": 4,
 "nbformat_minor": 2
}
